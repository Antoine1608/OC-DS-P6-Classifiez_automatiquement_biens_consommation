{
 "cells": [
  {
   "cell_type": "markdown",
   "metadata": {},
   "source": [
    "# Préparation du dataset"
   ]
  },
  {
   "cell_type": "code",
   "execution_count": 1,
   "metadata": {
    "gather": {
     "logged": 1679476789592
    },
    "scrolled": true
   },
   "outputs": [
    {
     "name": "stderr",
     "output_type": "stream",
     "text": [
      "<frozen importlib._bootstrap>:219: RuntimeWarning: scipy._lib.messagestream.MessageStream size changed, may indicate binary incompatibility. Expected 56 from C header, got 64 from PyObject\n",
      "2023-03-22 09:17:52.194382: I tensorflow/core/platform/cpu_feature_guard.cc:193] This TensorFlow binary is optimized with oneAPI Deep Neural Network Library (oneDNN) to use the following CPU instructions in performance-critical operations:  AVX2 AVX512F FMA\n",
      "To enable them in other operations, rebuild TensorFlow with the appropriate compiler flags.\n",
      "2023-03-22 09:17:59.570957: W tensorflow/compiler/xla/stream_executor/platform/default/dso_loader.cc:64] Could not load dynamic library 'libnvinfer.so.7'; dlerror: libnvinfer.so.7: cannot open shared object file: No such file or directory\n",
      "2023-03-22 09:17:59.571081: W tensorflow/compiler/xla/stream_executor/platform/default/dso_loader.cc:64] Could not load dynamic library 'libnvinfer_plugin.so.7'; dlerror: libnvinfer_plugin.so.7: cannot open shared object file: No such file or directory\n",
      "2023-03-22 09:17:59.571091: W tensorflow/compiler/tf2tensorrt/utils/py_utils.cc:38] TF-TRT Warning: Cannot dlopen some TensorRT libraries. If you would like to use Nvidia GPU with TensorRT, please make sure the missing libraries mentioned above are installed properly.\n"
     ]
    },
    {
     "name": "stdout",
     "output_type": "stream",
     "text": [
      "Num GPUs Available:  0\n"
     ]
    }
   ],
   "source": [
    "import pandas as pd\n",
    "import numpy as np\n",
    "import matplotlib.pyplot as plt\n",
    "import seaborn as sns\n",
    "%matplotlib inline\n",
    "import os\n",
    "from os import listdir\n",
    "from sklearn.model_selection import train_test_split\n",
    "from sklearn.metrics import accuracy_score, auc, roc_auc_score, roc_curve\n",
    "from glob import glob\n",
    "\n",
    "import tensorflow as tf\n",
    "from tensorflow.keras.models import Model, Sequential\n",
    "from tensorflow.keras.layers import GlobalAveragePooling2D, GlobalAveragePooling1D, Flatten, Dense, Dropout \n",
    "from tensorflow.keras.layers import Rescaling, RandomFlip, RandomRotation, RandomZoom\n",
    "from tensorflow.keras.callbacks import EarlyStopping, ModelCheckpoint\n",
    "from tensorflow.keras.applications.vgg16 import VGG16\n",
    "from tensorflow.keras.applications.vgg16 import preprocess_input\n",
    "from tensorflow.keras.preprocessing.image import load_img, img_to_array\n",
    "from tensorflow.keras.utils import to_categorical\n",
    "\n",
    "# os.environ[\"TF_KERAS\"]='1'\n",
    "print(\"Num GPUs Available: \", len(tf.config.list_physical_devices('GPU')))"
   ]
  },
  {
   "cell_type": "code",
   "execution_count": 2,
   "metadata": {
    "gather": {
     "logged": 1679476792206
    }
   },
   "outputs": [],
   "source": [
    "#df = pd.read_csv(r\"C:\\Users\\John\\Desktop\\Formation\\6-Classifiez automatiquement des biens de consommation\\1-Projet_6\\OC-DS-P6-Classifiez_automatiquement_biens_consommation\\df.csv\")\n",
    "df = pd.read_csv('df.csv')"
   ]
  },
  {
   "cell_type": "code",
   "execution_count": 3,
   "metadata": {
    "gather": {
     "logged": 1679476795241
    }
   },
   "outputs": [],
   "source": [
    "import os\n",
    "import random\n",
    "import shutil\n",
    "\n",
    "# Chemin vers le dossier contenant toutes les images\n",
    "#data_dir = r\"C:\\Users\\John\\Desktop\\Formation\\6-Classifiez automatiquement des biens de consommation\\1-Projet_6\\OC-DS-P6-Classifiez_automatiquement_biens_consommation\\Images\"\n",
    "data_dir = 'Images/'\n",
    "\n",
    "# Proportion des images à utiliser pour l'ensemble de test\n",
    "test_ratio = 0.2\n",
    "\n",
    "# Créer les dossiers pour l'ensemble de formation et l'ensemble de test\n",
    "train_dir = os.path.join(data_dir, \"train\")\n",
    "test_dir = os.path.join(data_dir, \"test\")\n",
    "os.makedirs(train_dir, exist_ok=True)\n",
    "os.makedirs(test_dir, exist_ok=True)\n",
    "\n",
    "# Parcourir chaque fichier d'image dans le dossier\n",
    "for filename in os.listdir(data_dir):\n",
    "    if filename.endswith(\".jpg\"):\n",
    "        # Déterminer aléatoirement si l'image doit être dans l'ensemble de test ou d'apprentissage\n",
    "        if random.uniform(0, 1) < test_ratio:\n",
    "            # Déplacer l'image dans le dossier de l'ensemble de test\n",
    "            shutil.move(os.path.join(data_dir, filename), os.path.join(test_dir, filename))\n",
    "        else:\n",
    "            # Déplacer l'image dans le dossier de l'ensemble d'apprentissage\n",
    "            shutil.move(os.path.join(data_dir, filename), os.path.join(train_dir, filename))"
   ]
  },
  {
   "cell_type": "code",
   "execution_count": 4,
   "metadata": {
    "gather": {
     "logged": 1679476815304
    }
   },
   "outputs": [
    {
     "data": {
      "text/html": [
       "<div>\n",
       "<style scoped>\n",
       "    .dataframe tbody tr th:only-of-type {\n",
       "        vertical-align: middle;\n",
       "    }\n",
       "\n",
       "    .dataframe tbody tr th {\n",
       "        vertical-align: top;\n",
       "    }\n",
       "\n",
       "    .dataframe thead th {\n",
       "        text-align: right;\n",
       "    }\n",
       "</style>\n",
       "<table border=\"1\" class=\"dataframe\">\n",
       "  <thead>\n",
       "    <tr style=\"text-align: right;\">\n",
       "      <th></th>\n",
       "      <th>image_path</th>\n",
       "      <th>label_name</th>\n",
       "      <th>label</th>\n",
       "    </tr>\n",
       "  </thead>\n",
       "  <tbody>\n",
       "    <tr>\n",
       "      <th>0</th>\n",
       "      <td>893aa5ed55f7cff2eccea7758d7a86bd.jpg</td>\n",
       "      <td>Watches</td>\n",
       "      <td>6</td>\n",
       "    </tr>\n",
       "    <tr>\n",
       "      <th>1</th>\n",
       "      <td>62c35de4df27437d3597963fac55a8b6.jpg</td>\n",
       "      <td>Watches</td>\n",
       "      <td>6</td>\n",
       "    </tr>\n",
       "    <tr>\n",
       "      <th>2</th>\n",
       "      <td>7c4fec2331da8d40f2cb146eb198cb57.jpg</td>\n",
       "      <td>Watches</td>\n",
       "      <td>6</td>\n",
       "    </tr>\n",
       "    <tr>\n",
       "      <th>3</th>\n",
       "      <td>ee8d9ff65e0fe4278afce7c933d30941.jpg</td>\n",
       "      <td>Watches</td>\n",
       "      <td>6</td>\n",
       "    </tr>\n",
       "    <tr>\n",
       "      <th>4</th>\n",
       "      <td>b85f8843bb1c297dd5712f0bd287006d.jpg</td>\n",
       "      <td>Home Furnishing</td>\n",
       "      <td>4</td>\n",
       "    </tr>\n",
       "  </tbody>\n",
       "</table>\n",
       "</div>"
      ],
      "text/plain": [
       "                             image_path       label_name  label\n",
       "0  893aa5ed55f7cff2eccea7758d7a86bd.jpg          Watches      6\n",
       "1  62c35de4df27437d3597963fac55a8b6.jpg          Watches      6\n",
       "2  7c4fec2331da8d40f2cb146eb198cb57.jpg          Watches      6\n",
       "3  ee8d9ff65e0fe4278afce7c933d30941.jpg          Watches      6\n",
       "4  b85f8843bb1c297dd5712f0bd287006d.jpg  Home Furnishing      4"
      ]
     },
     "execution_count": 4,
     "metadata": {},
     "output_type": "execute_result"
    }
   ],
   "source": [
    "from sklearn import preprocessing\n",
    "\n",
    "path = train_dir\n",
    "path_test = test_dir\n",
    "\n",
    "#\n",
    "list_labels = ['Home Furnishing', 'Baby Care', 'Watches',\n",
    "       'Home Decor & Festive Needs', 'Kitchen & Dining',\n",
    "       'Beauty and Personal Care', 'Computers']\n",
    "label_no_name = \"no_name \"\n",
    "\n",
    "def photo_class(photo) :\n",
    "    for label in list_labels :\n",
    "        print('photo : ',str(photo)[-36:])\n",
    "        img = str(photo)[-36:]\n",
    "        if label in df.loc[(df['image'].isin([img]) == True), 'class_'] : #photo[24:] : \n",
    "            return label\n",
    "    return label_no_name\n",
    "    \n",
    "data_path = glob(path+'*/*.jp*')\n",
    "data_test_path = glob(path_test+'*/*.jp*')\n",
    "\n",
    "def data_fct(path) :\n",
    "    list_photos = [file for file in path]\n",
    "    print(len(list_photos))\n",
    "    data = pd.DataFrame()\n",
    "    data[\"image_path\"] = list_photos\n",
    "    data[\"label_name\"] = data[\"image_path\"].apply(lambda x : photo_class(x))\n",
    "    return data\n",
    "\n",
    "#data = data_fct(data_path)\n",
    "#data_test = data_fct(data_test_path)\n",
    "\n",
    "# Filtre train et test\n",
    "f_tr = os.listdir(train_dir)\n",
    "f_te = os.listdir(test_dir)\n",
    "\n",
    "# Appliquer le filtre à df\n",
    "data = df.loc[df['image'].isin(f_tr),['image','class_']].reset_index(drop=True)\n",
    "data_test = df.loc[df['image'].isin(f_te),['image','class_']].reset_index(drop=True)\n",
    "\n",
    "# Renommer les colonnes\n",
    "data.rename(columns = {'class_':'label_name', 'image':'image_path'}, inplace = True)\n",
    "data_test.rename(columns = {'class_':'label_name', 'image':'image_path'}, inplace = True)\n",
    "\n",
    "le = preprocessing.LabelEncoder()\n",
    "le.fit(data[\"label_name\"])\n",
    "data[\"label\"] = le.transform(data[\"label_name\"])\n",
    "data_test[\"label\"] = le.transform(data_test[\"label_name\"])\n",
    "# data.head(5)\n",
    "data_test.head(5)"
   ]
  },
  {
   "cell_type": "code",
   "execution_count": 5,
   "metadata": {
    "gather": {
     "logged": 1679476832313
    }
   },
   "outputs": [
    {
     "data": {
      "text/html": [
       "<div>\n",
       "<style scoped>\n",
       "    .dataframe tbody tr th:only-of-type {\n",
       "        vertical-align: middle;\n",
       "    }\n",
       "\n",
       "    .dataframe tbody tr th {\n",
       "        vertical-align: top;\n",
       "    }\n",
       "\n",
       "    .dataframe thead th {\n",
       "        text-align: right;\n",
       "    }\n",
       "</style>\n",
       "<table border=\"1\" class=\"dataframe\">\n",
       "  <thead>\n",
       "    <tr style=\"text-align: right;\">\n",
       "      <th></th>\n",
       "      <th>image_path</th>\n",
       "      <th>label_name</th>\n",
       "    </tr>\n",
       "    <tr>\n",
       "      <th>label</th>\n",
       "      <th></th>\n",
       "      <th></th>\n",
       "    </tr>\n",
       "  </thead>\n",
       "  <tbody>\n",
       "    <tr>\n",
       "      <th>0</th>\n",
       "      <td>119</td>\n",
       "      <td>119</td>\n",
       "    </tr>\n",
       "    <tr>\n",
       "      <th>1</th>\n",
       "      <td>111</td>\n",
       "      <td>111</td>\n",
       "    </tr>\n",
       "    <tr>\n",
       "      <th>2</th>\n",
       "      <td>121</td>\n",
       "      <td>121</td>\n",
       "    </tr>\n",
       "    <tr>\n",
       "      <th>3</th>\n",
       "      <td>123</td>\n",
       "      <td>123</td>\n",
       "    </tr>\n",
       "    <tr>\n",
       "      <th>4</th>\n",
       "      <td>128</td>\n",
       "      <td>128</td>\n",
       "    </tr>\n",
       "    <tr>\n",
       "      <th>5</th>\n",
       "      <td>115</td>\n",
       "      <td>115</td>\n",
       "    </tr>\n",
       "    <tr>\n",
       "      <th>6</th>\n",
       "      <td>116</td>\n",
       "      <td>116</td>\n",
       "    </tr>\n",
       "  </tbody>\n",
       "</table>\n",
       "</div>"
      ],
      "text/plain": [
       "       image_path  label_name\n",
       "label                        \n",
       "0             119         119\n",
       "1             111         111\n",
       "2             121         121\n",
       "3             123         123\n",
       "4             128         128\n",
       "5             115         115\n",
       "6             116         116"
      ]
     },
     "execution_count": 5,
     "metadata": {},
     "output_type": "execute_result"
    }
   ],
   "source": [
    "data.groupby(\"label\").count()"
   ]
  },
  {
   "cell_type": "markdown",
   "metadata": {},
   "source": [
    "# classification supervisée\n",
    "4 approches sont présentées :\n",
    "* Une approche simple par préparation initiale de l'ensemble des images avant classification supervisée\n",
    "* Une approche par data generator, permettant facilement la data augmentation. Les images sont directement récupérées à la volée dans le repertoire des images\n",
    "* Une approche récente proposée par Tensorflow.org par DataSet, sans data augmentation\n",
    "* Une approche par  DataSet, avec data augmentation intégrée au modèle : layer en début de modèle\n"
   ]
  },
  {
   "cell_type": "markdown",
   "metadata": {},
   "source": [
    "## Création du modèle de classification"
   ]
  },
  {
   "cell_type": "code",
   "execution_count": 18,
   "metadata": {
    "gather": {
     "logged": 1679477027046
    },
    "scrolled": true
   },
   "outputs": [],
   "source": [
    "def create_model_fct() :\n",
    "    # Récupération modèle pré-entraîné\n",
    "    model0 = VGG16(include_top=False, weights=\"imagenet\", input_shape=(224, 224, 3))\n",
    "\n",
    "    # Layer non entraînables = on garde les poids du modèle pré-entraîné\n",
    "    for layer in model0.layers:\n",
    "        layer.trainable = False\n",
    "\n",
    "    # Récupérer la sortie de ce réseau\n",
    "    x = model0.output\n",
    "    # Compléter le modèle\n",
    "    x = GlobalAveragePooling2D()(x)\n",
    "    x = Dense(256, activation='relu')(x)\n",
    "    x = Dropout(0.5)(x)\n",
    "    predictions = Dense(7, activation='softmax')(x)\n",
    "\n",
    "    # Définir le nouveau modèle\n",
    "    model = Model(inputs=model0.input, outputs=predictions)\n",
    "    # compilation du modèle \n",
    "    model.compile(loss=\"categorical_crossentropy\", optimizer='rmsprop', metrics=[\"accuracy\"])\n",
    "\n",
    "    print(model.summary())\n",
    "    \n",
    "    return model\n",
    "    "
   ]
  },
  {
   "cell_type": "markdown",
   "metadata": {},
   "source": [
    "## Approche préparation initiale des images"
   ]
  },
  {
   "cell_type": "code",
   "execution_count": 20,
   "metadata": {
    "gather": {
     "logged": 1679071322354
    }
   },
   "outputs": [
    {
     "name": "stderr",
     "output_type": "stream",
     "text": [
      "/anaconda/envs/jupyter_env/lib/python3.8/site-packages/PIL/Image.py:3167: DecompressionBombWarning: Image size (93680328 pixels) exceeds limit of 89478485 pixels, could be decompression bomb DOS attack.\n",
      "  warnings.warn(\n"
     ]
    }
   ],
   "source": [
    "%%time\n",
    "def image_prep_fct(data) :\n",
    "    prepared_images = []\n",
    "    for image_num in range(len(data['image_path'])) :\n",
    "        try :\n",
    "            img = (load_img(train_dir + '/' +\n",
    "            data['image_path'][image_num],\n",
    "            target_size=(224, 224)))\n",
    "        except :\n",
    "            img = (load_img(test_dir + '/' +\n",
    "            data['image_path'][image_num],\n",
    "            target_size=(224, 224)))\n",
    "        img = img_to_array(img)\n",
    "        img = img.reshape((img.shape[0], img.shape[1], img.shape[2]))\n",
    "        img = preprocess_input(img)\n",
    "        prepared_images.append(img)\n",
    "        prepared_images_np = np.array(prepared_images)\n",
    "    return prepared_images_np\n",
    "    \n",
    "images_np = image_prep_fct(data)\n",
    "print(images_np.shape)\n",
    "images_np_test = image_prep_fct(data_test)\n",
    "print(images_np_test.shape)"
   ]
  },
  {
   "cell_type": "code",
   "execution_count": 21,
   "metadata": {
    "gather": {
     "logged": 1679477108229
    }
   },
   "outputs": [
    {
     "data": {
      "text/plain": [
       "array([[0., 0., 0., ..., 1., 0., 0.],\n",
       "       [1., 0., 0., ..., 0., 0., 0.],\n",
       "       [0., 0., 0., ..., 1., 0., 0.],\n",
       "       ...,\n",
       "       [1., 0., 0., ..., 0., 0., 0.],\n",
       "       [1., 0., 0., ..., 0., 0., 0.],\n",
       "       [1., 0., 0., ..., 0., 0., 0.]], dtype=float32)"
      ]
     },
     "execution_count": 21,
     "metadata": {},
     "output_type": "execute_result"
    }
   ],
   "source": [
    "X = images_np\n",
    "y = to_categorical(data['label'])\n",
    "\n",
    "X_test = images_np_test\n",
    "y_test = to_categorical(data_test['label'])\n",
    "\n",
    "y"
   ]
  },
  {
   "cell_type": "code",
   "execution_count": 22,
   "metadata": {
    "gather": {
     "logged": 1679477108901
    }
   },
   "outputs": [
    {
     "data": {
      "text/plain": [
       "(624, 224, 224, 3)"
      ]
     },
     "execution_count": 22,
     "metadata": {},
     "output_type": "execute_result"
    }
   ],
   "source": [
    "X_train, X_val, y_train, y_val = train_test_split(X, y, stratify=y, test_size=0.25, random_state=42)\n",
    "X_train.shape"
   ]
  },
  {
   "cell_type": "code",
   "execution_count": 23,
   "metadata": {
    "gather": {
     "logged": 1679477110114
    },
    "scrolled": true
   },
   "outputs": [
    {
     "name": "stdout",
     "output_type": "stream",
     "text": [
      "Model: \"model_1\"\n",
      "_________________________________________________________________\n",
      " Layer (type)                Output Shape              Param #   \n",
      "=================================================================\n",
      " input_2 (InputLayer)        [(None, 224, 224, 3)]     0         \n",
      "                                                                 \n",
      " block1_conv1 (Conv2D)       (None, 224, 224, 64)      1792      \n",
      "                                                                 \n",
      " block1_conv2 (Conv2D)       (None, 224, 224, 64)      36928     \n",
      "                                                                 \n",
      " block1_pool (MaxPooling2D)  (None, 112, 112, 64)      0         \n",
      "                                                                 \n",
      " block2_conv1 (Conv2D)       (None, 112, 112, 128)     73856     \n",
      "                                                                 \n",
      " block2_conv2 (Conv2D)       (None, 112, 112, 128)     147584    \n",
      "                                                                 \n",
      " block2_pool (MaxPooling2D)  (None, 56, 56, 128)       0         \n",
      "                                                                 \n",
      " block3_conv1 (Conv2D)       (None, 56, 56, 256)       295168    \n",
      "                                                                 \n",
      " block3_conv2 (Conv2D)       (None, 56, 56, 256)       590080    \n",
      "                                                                 \n",
      " block3_conv3 (Conv2D)       (None, 56, 56, 256)       590080    \n",
      "                                                                 \n",
      " block3_pool (MaxPooling2D)  (None, 28, 28, 256)       0         \n",
      "                                                                 \n",
      " block4_conv1 (Conv2D)       (None, 28, 28, 512)       1180160   \n",
      "                                                                 \n",
      " block4_conv2 (Conv2D)       (None, 28, 28, 512)       2359808   \n",
      "                                                                 \n",
      " block4_conv3 (Conv2D)       (None, 28, 28, 512)       2359808   \n",
      "                                                                 \n",
      " block4_pool (MaxPooling2D)  (None, 14, 14, 512)       0         \n",
      "                                                                 \n",
      " block5_conv1 (Conv2D)       (None, 14, 14, 512)       2359808   \n",
      "                                                                 \n",
      " block5_conv2 (Conv2D)       (None, 14, 14, 512)       2359808   \n",
      "                                                                 \n",
      " block5_conv3 (Conv2D)       (None, 14, 14, 512)       2359808   \n",
      "                                                                 \n",
      " block5_pool (MaxPooling2D)  (None, 7, 7, 512)         0         \n",
      "                                                                 \n",
      " global_average_pooling2d (G  (None, 512)              0         \n",
      " lobalAveragePooling2D)                                          \n",
      "                                                                 \n",
      " dense (Dense)               (None, 256)               131328    \n",
      "                                                                 \n",
      " dropout (Dropout)           (None, 256)               0         \n",
      "                                                                 \n",
      " dense_1 (Dense)             (None, 7)                 1799      \n",
      "                                                                 \n",
      "=================================================================\n",
      "Total params: 14,847,815\n",
      "Trainable params: 133,127\n",
      "Non-trainable params: 14,714,688\n",
      "_________________________________________________________________\n",
      "None\n"
     ]
    }
   ],
   "source": [
    "# Création du modèle\n",
    "with tf.device('/gpu:0'): \n",
    "    model1 = create_model_fct()\n",
    "\n",
    "# Création du callback\n",
    "model1_save_path1 = \"./model1_best_weights.h5\"\n",
    "checkpoint = ModelCheckpoint(model1_save_path1, monitor='val_loss', verbose=1, save_best_only=True, mode='min')\n",
    "es = EarlyStopping(monitor='val_loss', mode='min', verbose=1, patience=5)\n",
    "callbacks_list = [checkpoint, es]\n"
   ]
  },
  {
   "cell_type": "code",
   "execution_count": 24,
   "metadata": {
    "gather": {
     "logged": 1679477110854
    },
    "jupyter": {
     "outputs_hidden": false,
     "source_hidden": false
    },
    "nteract": {
     "transient": {
      "deleting": false
     }
    }
   },
   "outputs": [
    {
     "name": "stdout",
     "output_type": "stream",
     "text": [
      "Le plus grand diviseur < 80 de 624 est 78\n"
     ]
    }
   ],
   "source": [
    "# Recherche du plus grand diviseur\n",
    "num = X_train.shape[0]\n",
    "for i in range(2, num):\n",
    "    if i < 80:\n",
    "        if num % i == 0:\n",
    "            diviseur = i\n",
    "    else :\n",
    "        continue\n",
    "\n",
    "print(\"Le plus grand diviseur < 80 de\", num, \"est\", diviseur)"
   ]
  },
  {
   "cell_type": "code",
   "execution_count": 25,
   "metadata": {
    "gather": {
     "logged": 1679477111719
    },
    "jupyter": {
     "outputs_hidden": false,
     "source_hidden": false
    },
    "nteract": {
     "transient": {
      "deleting": false
     }
    }
   },
   "outputs": [
    {
     "name": "stdout",
     "output_type": "stream",
     "text": [
      "(624, 224, 224, 3) (624, 7) (215, 224, 224, 3) (215, 7) (209, 224, 224, 3) (209, 7)\n"
     ]
    }
   ],
   "source": [
    "print(X_train.shape, y_train.shape, X_test.shape, y_test.shape, X_val.shape, y_val.shape)"
   ]
  },
  {
   "cell_type": "code",
   "execution_count": 26,
   "metadata": {
    "gather": {
     "logged": 1679477226602
    },
    "scrolled": true
   },
   "outputs": [
    {
     "name": "stdout",
     "output_type": "stream",
     "text": [
      "Epoch 1/2\n",
      "10/10 [==============================] - ETA: 0s - loss: 5.9917 - accuracy: 0.4487\b\b\b\b\b\b\b\b\b\b\b\b\b\b\b\b\b\b\b\b\b\b\b\b\b\b\b\b\b\b\b\b\b\b\b\b\b\b\b\b\b\b\b\b\b\b\b\b\b\b\b\b\b\b\b\b\b\b\b\b\b\b\b\b\b\b\b\b\b\b\b\b\b\b\b\b\b\b\b\b\b\b\b\b\b\b\n",
      "Epoch 1: val_loss improved from inf to 1.29794, saving model to ./model1_best_weights.h5\n",
      "10/10 [==============================] - 59s 6s/step - loss: 5.9917 - accuracy: 0.4487 - val_loss: 1.2979 - val_accuracy: 0.7512\n",
      "Epoch 2/2\n",
      "10/10 [==============================] - ETA: 0s - loss: 2.0162 - accuracy: 0.6651\b\b\b\b\b\b\b\b\b\b\b\b\b\b\b\b\b\b\b\b\b\b\b\b\b\b\b\b\b\b\b\b\b\b\b\b\b\b\b\b\b\b\b\b\b\b\b\b\b\b\b\b\b\b\b\b\b\b\b\b\b\b\b\b\b\b\b\b\b\b\b\b\b\b\b\b\b\b\b\b\b\b\b\b\n",
      "Epoch 2: val_loss improved from 1.29794 to 1.26578, saving model to ./model1_best_weights.h5\n",
      "10/10 [==============================] - 58s 6s/step - loss: 2.0162 - accuracy: 0.6651 - val_loss: 1.2658 - val_accuracy: 0.7656\n"
     ]
    }
   ],
   "source": [
    "# Entraîner sur les données d'entraînement (X_train, y_train) epochs=5 au lieu de 50\n",
    "with tf.device('/gpu:0'): \n",
    "    history1 = model1.fit(X_train, y_train, epochs=2, batch_size=64, \n",
    "                       callbacks=callbacks_list, validation_data=(X_val, y_val), verbose=1)\n"
   ]
  },
  {
   "cell_type": "code",
   "execution_count": 27,
   "metadata": {
    "gather": {
     "logged": 1679477285685
    },
    "scrolled": true
   },
   "outputs": [
    {
     "name": "stdout",
     "output_type": "stream",
     "text": [
      "20/20 [==============================] - 44s 2s/step - loss: 0.7277 - accuracy: 0.8654\b\b\b\b\b\b\b\b\b\b\b\b\b\b\b\b\b\b\b\b\b\b\b\b\b\b\b\b\b\b\b\b\b\b\b\b\b\b\b\b\b\b\b\b\b\b\b\b\b\b\b\b\b\b\b\b\b\b\b\b\b\b\b\b\b\b\b\b\b\b\b\b\b\b\b\b\b\b\b\b\n",
      "Training Accuracy: 0.8654\n",
      "\n",
      "7/7 [==============================] - 15s 2s/step - loss: 1.2658 - accuracy: 0.7656\b\b\b\b\b\b\b\b\b\b\b\b\b\b\b\b\b\b\b\b\b\b\b\b\b\b\b\b\b\b\b\b\b\b\b\b\b\b\b\b\b\b\b\b\b\b\b\b\b\b\b\b\b\b\b\b\b\b\b\b\b\b\b\b\b\b\b\b\b\b\b\b\b\b\b\b\b\b\n",
      "Validation Accuracy:  0.7656\n"
     ]
    }
   ],
   "source": [
    "# Score du dernier epoch\n",
    "\n",
    "loss, accuracy = model1.evaluate(X_train, y_train, verbose=True)\n",
    "print(\"Training Accuracy: {:.4f}\".format(accuracy))\n",
    "print()\n",
    "loss, accuracy = model1.evaluate(X_val, y_val, verbose=True)\n",
    "print(\"Validation Accuracy:  {:.4f}\".format(accuracy))"
   ]
  },
  {
   "cell_type": "code",
   "execution_count": 28,
   "metadata": {
    "gather": {
     "logged": 1679477316464
    }
   },
   "outputs": [
    {
     "name": "stdout",
     "output_type": "stream",
     "text": [
      "Validation Accuracy :  0.7656\n",
      "Test Accuracy       :  0.7767\n"
     ]
    }
   ],
   "source": [
    "# Score de l'epoch optimal\n",
    "\n",
    "model1.load_weights(model1_save_path1)\n",
    "\n",
    "loss, accuracy = model1.evaluate(X_val, y_val, verbose=False)\n",
    "print(\"Validation Accuracy :  {:.4f}\".format(accuracy))\n",
    "\n",
    "loss, accuracy = model1.evaluate(X_test, y_test, verbose=False)\n",
    "print(\"Test Accuracy       :  {:.4f}\".format(accuracy))\n"
   ]
  },
  {
   "cell_type": "code",
   "execution_count": 29,
   "metadata": {
    "gather": {
     "logged": 1679477320526
    },
    "jupyter": {
     "outputs_hidden": false,
     "source_hidden": false
    },
    "nteract": {
     "transient": {
      "deleting": false
     }
    }
   },
   "outputs": [
    {
     "name": "stdout",
     "output_type": "stream",
     "text": [
      "Requirement already satisfied: plot-keras-history in /anaconda/envs/jupyter_env/lib/python3.8/site-packages (1.1.38)\n",
      "Requirement already satisfied: sanitize-ml-labels>=1.0.48 in /anaconda/envs/jupyter_env/lib/python3.8/site-packages (from plot-keras-history) (1.0.50)\n",
      "Requirement already satisfied: scipy in /anaconda/envs/jupyter_env/lib/python3.8/site-packages (from plot-keras-history) (1.9.3)\n",
      "Requirement already satisfied: pandas in /anaconda/envs/jupyter_env/lib/python3.8/site-packages (from plot-keras-history) (1.5.3)\n",
      "Requirement already satisfied: matplotlib in /anaconda/envs/jupyter_env/lib/python3.8/site-packages (from plot-keras-history) (3.7.1)\n",
      "Requirement already satisfied: support-developer>=1.0.2 in /anaconda/envs/jupyter_env/lib/python3.8/site-packages (from plot-keras-history) (1.0.5)\n",
      "Requirement already satisfied: compress-json in /anaconda/envs/jupyter_env/lib/python3.8/site-packages (from sanitize-ml-labels>=1.0.48->plot-keras-history) (1.0.8)\n",
      "Requirement already satisfied: cycler>=0.10 in /anaconda/envs/jupyter_env/lib/python3.8/site-packages (from matplotlib->plot-keras-history) (0.11.0)\n",
      "Requirement already satisfied: packaging>=20.0 in /anaconda/envs/jupyter_env/lib/python3.8/site-packages (from matplotlib->plot-keras-history) (21.3)\n",
      "Requirement already satisfied: python-dateutil>=2.7 in /anaconda/envs/jupyter_env/lib/python3.8/site-packages (from matplotlib->plot-keras-history) (2.8.2)\n",
      "Requirement already satisfied: kiwisolver>=1.0.1 in /anaconda/envs/jupyter_env/lib/python3.8/site-packages (from matplotlib->plot-keras-history) (1.4.4)\n",
      "Requirement already satisfied: pyparsing>=2.3.1 in /anaconda/envs/jupyter_env/lib/python3.8/site-packages (from matplotlib->plot-keras-history) (3.0.9)\n",
      "Requirement already satisfied: fonttools>=4.22.0 in /anaconda/envs/jupyter_env/lib/python3.8/site-packages (from matplotlib->plot-keras-history) (4.38.0)\n",
      "Requirement already satisfied: importlib-resources>=3.2.0 in /anaconda/envs/jupyter_env/lib/python3.8/site-packages (from matplotlib->plot-keras-history) (5.10.2)\n",
      "Requirement already satisfied: contourpy>=1.0.1 in /anaconda/envs/jupyter_env/lib/python3.8/site-packages (from matplotlib->plot-keras-history) (1.0.7)\n",
      "Requirement already satisfied: pillow>=6.2.0 in /anaconda/envs/jupyter_env/lib/python3.8/site-packages (from matplotlib->plot-keras-history) (9.4.0)\n",
      "Requirement already satisfied: numpy>=1.20 in /anaconda/envs/jupyter_env/lib/python3.8/site-packages (from matplotlib->plot-keras-history) (1.23.5)\n",
      "Requirement already satisfied: pytz>=2020.1 in /anaconda/envs/jupyter_env/lib/python3.8/site-packages (from pandas->plot-keras-history) (2022.5)\n",
      "Requirement already satisfied: zipp>=3.1.0 in /anaconda/envs/jupyter_env/lib/python3.8/site-packages (from importlib-resources>=3.2.0->matplotlib->plot-keras-history) (3.11.0)\n",
      "Requirement already satisfied: six>=1.5 in /anaconda/envs/jupyter_env/lib/python3.8/site-packages (from python-dateutil>=2.7->matplotlib->plot-keras-history) (1.16.0)\n",
      "Note: you may need to restart the kernel to use updated packages.\n"
     ]
    }
   ],
   "source": [
    "pip install plot-keras-history"
   ]
  },
  {
   "cell_type": "code",
   "execution_count": 30,
   "metadata": {
    "gather": {
     "logged": 1679477322317
    },
    "scrolled": false
   },
   "outputs": [
    {
     "data": {
      "image/png": "[encoded data removed]",
      "text/plain": [
       "<Figure size 1000x500 with 2 Axes>"
      ]
     },
     "metadata": {},
     "output_type": "display_data"
    }
   ],
   "source": [
    "from plot_keras_history import show_history, plot_history\n",
    "import matplotlib.pyplot as plt\n",
    "\n",
    "show_history(history1)\n",
    "plot_history(history1, path=\"standard.png\")\n",
    "plt.close()"
   ]
  },
  {
   "cell_type": "code",
   "execution_count": 31,
   "metadata": {
    "gather": {
     "logged": 1679477336415
    },
    "scrolled": true
   },
   "outputs": [
    {
     "name": "stdout",
     "output_type": "stream",
     "text": [
      "7/7 [==============================] - 15s 2s/step\b\b\b\b\b\b\b\b\b\b\b\b\b\b\b\b\b\b\b\b\b\b\b\b\b\b\b\b\b\b\b\b\b\b\b\b\b\b\b\b\b\b\b\b\n",
      "[5 4 2 5 2 6 6 2 3 6 0 4 3 5 2 0 6 0 4 3 3 6 3 3 6 2 3 6 2 0 0 2 5 0 0 6 5\n",
      " 3 6 4 4 5 1 4 5 1 2 3 2 4 4 1 6 6 2 5 2 3 6 4 0 0 3 3 5 2 0 1 6 4 4 2 4 0\n",
      " 5 0 2 5 4 2 1 1 3 5 4 3 5 4 6 3 3 1 3 4 5 1 6 0 1 4 0 3 5 2 2 6 1 4 5 5 3\n",
      " 2 6 3 6 1 4 5 2 1 6 6 1 1 2 3 5 4 5 3 4 3 3 5 1 0 4 4 0 5 4 1 6 1 1 4 1 2\n",
      " 4 0 2 4 1 5 2 4 1 0 2 4 0 0 2 6 4 2 4 3 0 0 6 3 0 4 6 5 0 2 3 1 6 0 6 1 5\n",
      " 0 5 2 0 1 6 1 2 1 3 6 3 6 5 0 0 1 1 5 2 3 5 0 3]\n",
      "\n",
      "[5 4 2 5 2 6 6 6 6 6 0 5 3 5 3 4 6 4 4 0 3 6 3 3 6 2 3 6 2 0 0 2 5 1 4 6 5\n",
      " 3 6 4 4 5 1 4 5 1 2 5 2 4 4 1 6 6 2 5 5 3 6 4 5 1 3 6 5 2 0 3 6 4 4 2 4 5\n",
      " 5 0 2 5 4 2 1 5 3 5 4 3 5 3 6 3 6 1 3 4 5 1 6 3 1 4 3 6 5 3 2 6 1 4 5 5 5\n",
      " 2 6 3 6 1 4 5 2 4 6 6 1 1 2 5 5 4 5 3 4 3 5 5 2 0 2 4 6 5 4 1 6 1 1 4 1 5\n",
      " 4 3 2 4 2 5 2 4 2 2 5 4 4 0 2 6 4 3 4 3 0 0 6 2 4 4 6 5 4 2 3 1 6 0 6 1 5\n",
      " 6 5 2 0 1 6 1 2 2 4 6 3 6 5 1 4 1 1 2 2 3 5 4 4]\n"
     ]
    }
   ],
   "source": [
    "y_val_num = np.argmax(y_val, axis=1)\n",
    "y_val_pred = np.argmax(model1.predict(X_val), axis=1)\n",
    "y_val_num = np.argmax(y_val, axis=1)\n",
    "print(y_val_num)\n",
    "print()\n",
    "print(y_val_pred)"
   ]
  },
  {
   "cell_type": "code",
   "execution_count": 32,
   "metadata": {
    "gather": {
     "logged": 1679477337166
    }
   },
   "outputs": [
    {
     "name": "stdout",
     "output_type": "stream",
     "text": [
      "[[11  3  1  3  8  2  2]\n",
      " [ 0 21  4  1  1  1  0]\n",
      " [ 0  0 23  3  0  3  1]\n",
      " [ 1  0  1 19  2  4  4]\n",
      " [ 0  0  1  1 29  1  0]\n",
      " [ 0  0  1  0  0 28  0]\n",
      " [ 0  0  0  0  0  0 29]]\n"
     ]
    }
   ],
   "source": [
    "conf_mat = metrics.confusion_matrix(y_val_num, y_val_pred)\n",
    "print(conf_mat)"
   ]
  },
  {
   "cell_type": "code",
   "execution_count": 33,
   "metadata": {
    "gather": {
     "logged": 1679477337905
    }
   },
   "outputs": [
    {
     "name": "stdout",
     "output_type": "stream",
     "text": [
      "Correspondance des clusters :  [0 1 2 3 4 5 6]\n",
      "[[11  3  1  3  8  2  2]\n",
      " [ 0 21  4  1  1  1  0]\n",
      " [ 0  0 23  3  0  3  1]\n",
      " [ 1  0  1 19  2  4  4]\n",
      " [ 0  0  1  1 29  1  0]\n",
      " [ 0  0  1  0  0 28  0]\n",
      " [ 0  0  0  0  0  0 29]]\n",
      "\n",
      "              precision    recall  f1-score   support\n",
      "\n",
      "           0       0.92      0.37      0.52        30\n",
      "           1       0.88      0.75      0.81        28\n",
      "           2       0.74      0.77      0.75        30\n",
      "           3       0.70      0.61      0.66        31\n",
      "           4       0.72      0.91      0.81        32\n",
      "           5       0.72      0.97      0.82        29\n",
      "           6       0.81      1.00      0.89        29\n",
      "\n",
      "    accuracy                           0.77       209\n",
      "   macro avg       0.78      0.77      0.75       209\n",
      "weighted avg       0.78      0.77      0.75       209\n",
      "\n"
     ]
    }
   ],
   "source": [
    "conf_mat = metrics.confusion_matrix(y_val_num, y_val_pred)\n",
    "print(conf_mat)\n",
    "y_val_pred_transform = conf_mat_transform(y_val_num, y_val_pred)\n",
    "\n",
    "conf_mat = metrics.confusion_matrix(y_val_num, y_val_pred_transform)\n",
    "print(conf_mat)\n",
    "print()\n",
    "print(metrics.classification_report(y_val_num, y_val_pred_transform))\n",
    "\n",
    "df_cm = pd.DataFrame(conf_mat, index = [label for label in list_labels],\n",
    "                  columns = [i for i in \"0123456\"])\n",
    "plt.figure(figsize = (6,4))\n",
    "sns.heatmap(df_cm, annot=True, cmap=\"Blues\")"
   ]
  },
  {
   "cell_type": "code",
   "execution_count": 34,
   "metadata": {
    "gather": {
     "logged": 1679477339248
    }
   },
   "outputs": [
    {
     "data": {
      "text/plain": [
       "<Axes: >"
      ]
     },
     "execution_count": 34,
     "metadata": {},
     "output_type": "execute_result"
    },
    {
     "data": {
      "image/png": "[encoded data removed]",
      "text/plain": [
       "<Figure size 600x400 with 2 Axes>"
      ]
     },
     "metadata": {},
     "output_type": "display_data"
    }
   ],
   "source": [
    "df_cm = pd.DataFrame(conf_mat, index = [label for label in list_labels],\n",
    "                  columns = [i for i in \"0123456\"])\n",
    "plt.figure(figsize = (6,4))\n",
    "sns.heatmap(df_cm, annot=True, cmap=\"Blues\")"
   ]
  },
  {
   "cell_type": "markdown",
   "metadata": {},
   "source": [
    "* Les images \"shine\" contenant de la neige sont désormais bien affectées à \"shine\" et non pas \"cloud\""
   ]
  },
  {
   "cell_type": "markdown",
   "metadata": {},
   "source": [
    "## Approche ImageDatagenerator avec data augmentation\n",
    "\n",
    "CF https://www.tensorflow.org/api_docs/python/tf/keras/preprocessing/image/ImageDataGenerator#flow (noté désormais comme \"deprecated\", incite à utiiser l'approche suivante)"
   ]
  },
  {
   "cell_type": "code",
   "execution_count": 35,
   "metadata": {
    "gather": {
     "logged": 1679477340126
    }
   },
   "outputs": [],
   "source": [
    "from tensorflow.keras.preprocessing.image import ImageDataGenerator"
   ]
  },
  {
   "cell_type": "code",
   "execution_count": 36,
   "metadata": {
    "gather": {
     "logged": 1679477341037
    }
   },
   "outputs": [],
   "source": [
    "# Pour mélanger les images, classées initalement par classe\n",
    "data = data.sample(frac=1, random_state=42).reset_index(drop=True)"
   ]
  },
  {
   "cell_type": "code",
   "execution_count": 37,
   "metadata": {
    "gather": {
     "logged": 1679477342015
    },
    "jupyter": {
     "outputs_hidden": false,
     "source_hidden": false
    },
    "nteract": {
     "transient": {
      "deleting": false
     }
    }
   },
   "outputs": [
    {
     "data": {
      "text/html": [
       "<div>\n",
       "<style scoped>\n",
       "    .dataframe tbody tr th:only-of-type {\n",
       "        vertical-align: middle;\n",
       "    }\n",
       "\n",
       "    .dataframe tbody tr th {\n",
       "        vertical-align: top;\n",
       "    }\n",
       "\n",
       "    .dataframe thead th {\n",
       "        text-align: right;\n",
       "    }\n",
       "</style>\n",
       "<table border=\"1\" class=\"dataframe\">\n",
       "  <thead>\n",
       "    <tr style=\"text-align: right;\">\n",
       "      <th></th>\n",
       "      <th>image_path</th>\n",
       "      <th>label_name</th>\n",
       "      <th>label</th>\n",
       "    </tr>\n",
       "  </thead>\n",
       "  <tbody>\n",
       "    <tr>\n",
       "      <th>0</th>\n",
       "      <td>c705a5735a94aeee547d1798e3e46ec4.jpg</td>\n",
       "      <td>Watches</td>\n",
       "      <td>6</td>\n",
       "    </tr>\n",
       "    <tr>\n",
       "      <th>1</th>\n",
       "      <td>7815fb39feb773db944c9f03bbdcbf64.jpg</td>\n",
       "      <td>Computers</td>\n",
       "      <td>2</td>\n",
       "    </tr>\n",
       "    <tr>\n",
       "      <th>2</th>\n",
       "      <td>1eda39f01d0a8a2e5ce4b32fc7da1027.jpg</td>\n",
       "      <td>Computers</td>\n",
       "      <td>2</td>\n",
       "    </tr>\n",
       "    <tr>\n",
       "      <th>3</th>\n",
       "      <td>11f06dffebf7edf9e15351834a190c2c.jpg</td>\n",
       "      <td>Baby Care</td>\n",
       "      <td>0</td>\n",
       "    </tr>\n",
       "    <tr>\n",
       "      <th>4</th>\n",
       "      <td>ce02ab514e4c623dcf7acd7182a7762d.jpg</td>\n",
       "      <td>Kitchen &amp; Dining</td>\n",
       "      <td>5</td>\n",
       "    </tr>\n",
       "    <tr>\n",
       "      <th>...</th>\n",
       "      <td>...</td>\n",
       "      <td>...</td>\n",
       "      <td>...</td>\n",
       "    </tr>\n",
       "    <tr>\n",
       "      <th>828</th>\n",
       "      <td>d1e18b4a3aafb0040da2111c8b8ce2e5.jpg</td>\n",
       "      <td>Home Decor &amp; Festive Needs</td>\n",
       "      <td>3</td>\n",
       "    </tr>\n",
       "    <tr>\n",
       "      <th>829</th>\n",
       "      <td>0d3e1dc0d38be59e9927e47f152e48aa.jpg</td>\n",
       "      <td>Kitchen &amp; Dining</td>\n",
       "      <td>5</td>\n",
       "    </tr>\n",
       "    <tr>\n",
       "      <th>830</th>\n",
       "      <td>833a87b0af3b84fe246d2ebf271af177.jpg</td>\n",
       "      <td>Computers</td>\n",
       "      <td>2</td>\n",
       "    </tr>\n",
       "    <tr>\n",
       "      <th>831</th>\n",
       "      <td>97fba8a02361aa56eaa9fa51bc1d7661.jpg</td>\n",
       "      <td>Watches</td>\n",
       "      <td>6</td>\n",
       "    </tr>\n",
       "    <tr>\n",
       "      <th>832</th>\n",
       "      <td>5531b9f454e2d75cfe00c3f795e06de5.jpg</td>\n",
       "      <td>Kitchen &amp; Dining</td>\n",
       "      <td>5</td>\n",
       "    </tr>\n",
       "  </tbody>\n",
       "</table>\n",
       "<p>833 rows × 3 columns</p>\n",
       "</div>"
      ],
      "text/plain": [
       "                               image_path                  label_name  label\n",
       "0    c705a5735a94aeee547d1798e3e46ec4.jpg                     Watches      6\n",
       "1    7815fb39feb773db944c9f03bbdcbf64.jpg                   Computers      2\n",
       "2    1eda39f01d0a8a2e5ce4b32fc7da1027.jpg                   Computers      2\n",
       "3    11f06dffebf7edf9e15351834a190c2c.jpg                   Baby Care      0\n",
       "4    ce02ab514e4c623dcf7acd7182a7762d.jpg            Kitchen & Dining      5\n",
       "..                                    ...                         ...    ...\n",
       "828  d1e18b4a3aafb0040da2111c8b8ce2e5.jpg  Home Decor & Festive Needs      3\n",
       "829  0d3e1dc0d38be59e9927e47f152e48aa.jpg            Kitchen & Dining      5\n",
       "830  833a87b0af3b84fe246d2ebf271af177.jpg                   Computers      2\n",
       "831  97fba8a02361aa56eaa9fa51bc1d7661.jpg                     Watches      6\n",
       "832  5531b9f454e2d75cfe00c3f795e06de5.jpg            Kitchen & Dining      5\n",
       "\n",
       "[833 rows x 3 columns]"
      ]
     },
     "execution_count": 37,
     "metadata": {},
     "output_type": "execute_result"
    }
   ],
   "source": [
    "data"
   ]
  },
  {
   "cell_type": "code",
   "execution_count": 38,
   "metadata": {
    "gather": {
     "logged": 1679303861941
    },
    "jupyter": {
     "outputs_hidden": false,
     "source_hidden": false
    },
    "nteract": {
     "transient": {
      "deleting": false
     }
    }
   },
   "outputs": [
    {
     "name": "stdout",
     "output_type": "stream",
     "text": [
      "0\n",
      "100\n",
      "200\n",
      "300\n",
      "400\n",
      "500\n",
      "600\n",
      "700\n",
      "800\n",
      "CPU times: user 4min 57s, sys: 2.64 s, total: 4min 59s\n",
      "Wall time: 2min 50s\n"
     ]
    },
    {
     "name": "stderr",
     "output_type": "stream",
     "text": [
      "/anaconda/envs/jupyter_env/lib/python3.8/site-packages/PIL/Image.py:3167: DecompressionBombWarning: Image size (93680328 pixels) exceeds limit of 89478485 pixels, could be decompression bomb DOS attack.\n",
      "  warnings.warn(\n"
     ]
    },
    {
     "data": {
      "text/plain": [
       "(833, 4096)"
      ]
     },
     "execution_count": 38,
     "metadata": {},
     "output_type": "execute_result"
    }
   ],
   "source": [
    "%%time\n",
    "images_features = []\n",
    "i=0 \n",
    "for image_file in data[\"image_path\"] :\n",
    "    if i%100 == 0 : print(i)\n",
    "    i +=1\n",
    "    image = load_img(train_dir +'/'+ image_file, target_size=(224, 224))\n",
    "    image = img_to_array(image) \n",
    "    image = np.expand_dims(image, axis=0)\n",
    "    image = preprocess_input(image)\n",
    "    images_features.append(model.predict(image, verbose=0)[0]) # predict from pretrained model\n",
    "\n",
    "images_features = np.asarray(images_features)\n",
    "images_features.shape"
   ]
  },
  {
   "cell_type": "code",
   "execution_count": 39,
   "metadata": {
    "gather": {
     "logged": 1679477508208
    }
   },
   "outputs": [],
   "source": [
    "batch_size = 32\n",
    "\n",
    "def data_flow_fct_train(data, datagen, data_type=None) :\n",
    "    data_flow = datagen.flow_from_dataframe(data, directory=train_dir+'/',\n",
    "                                x_col='image_path', y_col='label_name',\n",
    "                                weight_col=None, target_size=(256, 256),\n",
    "                                classes=None, class_mode='categorical',\n",
    "                                batch_size=batch_size, shuffle=True, seed=42,\n",
    "                                subset=data_type\n",
    "                                )\n",
    "    return data_flow\n",
    "\n",
    "def data_flow_fct_test(data, datagen, data_type=None) :\n",
    "    data_flow = datagen.flow_from_dataframe(data, directory=test_dir+'/',\n",
    "                                x_col='image_path', y_col='label_name',\n",
    "                                weight_col=None, target_size=(256, 256),\n",
    "                                classes=None, class_mode='categorical',\n",
    "                                batch_size=batch_size, shuffle=True, seed=42,\n",
    "                                subset=data_type\n",
    "                                )\n",
    "    return data_flow"
   ]
  },
  {
   "cell_type": "code",
   "execution_count": 40,
   "metadata": {
    "gather": {
     "logged": 1679477536396
    },
    "scrolled": true
   },
   "outputs": [
    {
     "name": "stdout",
     "output_type": "stream",
     "text": [
      "Found 625 validated image filenames belonging to 7 classes.\n",
      "Found 208 validated image filenames belonging to 7 classes.\n",
      "Found 215 validated image filenames belonging to 7 classes.\n"
     ]
    }
   ],
   "source": [
    "datagen_train = ImageDataGenerator(\n",
    "#    featurewise_center=True,\n",
    "#    featurewise_std_normalization=True,\n",
    "    rotation_range=20,\n",
    "    width_shift_range=0.2,\n",
    "    height_shift_range=0.2,\n",
    "    horizontal_flip=True,\n",
    "    validation_split=0.25,\n",
    "    preprocessing_function=preprocess_input)\n",
    "\n",
    "train_flow = data_flow_fct_train(data, datagen_train, data_type='training')\n",
    "val_flow = data_flow_fct_train(data, datagen_train, data_type='validation')\n",
    "\n",
    "datagen_test = ImageDataGenerator(\n",
    "    validation_split=0,\n",
    "    preprocessing_function=preprocess_input)\n",
    "\n",
    "test_flow = data_flow_fct_test(data_test, datagen_test, data_type=None)\n",
    "\n",
    "# compute quantities required for featurewise normalization\n",
    "# (std, mean, and principal components if ZCA whitening is applied)\n",
    "# datagen.fit(X_train)\n",
    "# fits the model on batches with real-time data augmentation:"
   ]
  },
  {
   "cell_type": "code",
   "execution_count": 41,
   "metadata": {
    "gather": {
     "logged": 1679477537333
    },
    "jupyter": {
     "outputs_hidden": false,
     "source_hidden": false
    },
    "nteract": {
     "transient": {
      "deleting": false
     }
    }
   },
   "outputs": [
    {
     "data": {
      "text/plain": [
       "<keras.preprocessing.image.DataFrameIterator at 0x7f2940437d60>"
      ]
     },
     "execution_count": 41,
     "metadata": {},
     "output_type": "execute_result"
    }
   ],
   "source": [
    "train_flow"
   ]
  },
  {
   "cell_type": "code",
   "execution_count": 42,
   "metadata": {
    "gather": {
     "logged": 1679477538476
    },
    "scrolled": true
   },
   "outputs": [
    {
     "name": "stdout",
     "output_type": "stream",
     "text": [
      "Model: \"model_2\"\n",
      "_________________________________________________________________\n",
      " Layer (type)                Output Shape              Param #   \n",
      "=================================================================\n",
      " input_3 (InputLayer)        [(None, 224, 224, 3)]     0         \n",
      "                                                                 \n",
      " block1_conv1 (Conv2D)       (None, 224, 224, 64)      1792      \n",
      "                                                                 \n",
      " block1_conv2 (Conv2D)       (None, 224, 224, 64)      36928     \n",
      "                                                                 \n",
      " block1_pool (MaxPooling2D)  (None, 112, 112, 64)      0         \n",
      "                                                                 \n",
      " block2_conv1 (Conv2D)       (None, 112, 112, 128)     73856     \n",
      "                                                                 \n",
      " block2_conv2 (Conv2D)       (None, 112, 112, 128)     147584    \n",
      "                                                                 \n",
      " block2_pool (MaxPooling2D)  (None, 56, 56, 128)       0         \n",
      "                                                                 \n",
      " block3_conv1 (Conv2D)       (None, 56, 56, 256)       295168    \n",
      "                                                                 \n",
      " block3_conv2 (Conv2D)       (None, 56, 56, 256)       590080    \n",
      "                                                                 \n",
      " block3_conv3 (Conv2D)       (None, 56, 56, 256)       590080    \n",
      "                                                                 \n",
      " block3_pool (MaxPooling2D)  (None, 28, 28, 256)       0         \n",
      "                                                                 \n",
      " block4_conv1 (Conv2D)       (None, 28, 28, 512)       1180160   \n",
      "                                                                 \n",
      " block4_conv2 (Conv2D)       (None, 28, 28, 512)       2359808   \n",
      "                                                                 \n",
      " block4_conv3 (Conv2D)       (None, 28, 28, 512)       2359808   \n",
      "                                                                 \n",
      " block4_pool (MaxPooling2D)  (None, 14, 14, 512)       0         \n",
      "                                                                 \n",
      " block5_conv1 (Conv2D)       (None, 14, 14, 512)       2359808   \n",
      "                                                                 \n",
      " block5_conv2 (Conv2D)       (None, 14, 14, 512)       2359808   \n",
      "                                                                 \n",
      " block5_conv3 (Conv2D)       (None, 14, 14, 512)       2359808   \n",
      "                                                                 \n",
      " block5_pool (MaxPooling2D)  (None, 7, 7, 512)         0         \n",
      "                                                                 \n",
      " global_average_pooling2d_1   (None, 512)              0         \n",
      " (GlobalAveragePooling2D)                                        \n",
      "                                                                 \n",
      " dense_2 (Dense)             (None, 256)               131328    \n",
      "                                                                 \n",
      " dropout_1 (Dropout)         (None, 256)               0         \n",
      "                                                                 \n",
      " dense_3 (Dense)             (None, 7)                 1799      \n",
      "                                                                 \n",
      "=================================================================\n",
      "Total params: 14,847,815\n",
      "Trainable params: 133,127\n",
      "Non-trainable params: 14,714,688\n",
      "_________________________________________________________________\n",
      "None\n"
     ]
    }
   ],
   "source": [
    "# Création du modèle\n",
    "with tf.device('/gpu:0'): \n",
    "    model2 = create_model_fct()\n",
    "\n",
    "# Création du callback\n",
    "model2_save_path = \"./model2_best_weights.h5\"\n",
    "checkpoint = ModelCheckpoint(model2_save_path, monitor='val_loss', verbose=1, save_best_only=True, mode='min')\n",
    "es = EarlyStopping(monitor='val_loss', mode='min', verbose=1, patience=5)\n",
    "callbacks_list = [checkpoint, es]\n"
   ]
  },
  {
   "cell_type": "code",
   "execution_count": 43,
   "metadata": {
    "gather": {
     "logged": 1679477539215
    },
    "scrolled": true
   },
   "outputs": [
    {
     "name": "stdout",
     "output_type": "stream",
     "text": [
      "Num GPUs Available:  0\n"
     ]
    }
   ],
   "source": [
    "print(\"Num GPUs Available: \", len(tf.config.list_physical_devices('GPU')))\n"
   ]
  },
  {
   "cell_type": "code",
   "execution_count": 44,
   "metadata": {
    "gather": {
     "logged": 1679477540473
    },
    "jupyter": {
     "outputs_hidden": false,
     "source_hidden": false
    },
    "nteract": {
     "transient": {
      "deleting": false
     }
    }
   },
   "outputs": [
    {
     "data": {
      "text/plain": [
       "<keras.preprocessing.image.DataFrameIterator at 0x7f2940437d60>"
      ]
     },
     "execution_count": 44,
     "metadata": {},
     "output_type": "execute_result"
    }
   ],
   "source": [
    "train_flow"
   ]
  },
  {
   "cell_type": "code",
   "execution_count": 45,
   "metadata": {
    "gather": {
     "logged": 1679477707651
    },
    "scrolled": true
   },
   "outputs": [
    {
     "name": "stdout",
     "output_type": "stream",
     "text": [
      "Epoch 1/2\n",
      "20/20 [==============================] - ETA: 0s - loss: 4.1846 - accuracy: 0.4368\b\b\b\b\b\b\b\b\b\b\b\b\b\b\b\b\b\b\b\b\b\b\b\b\b\b\b\b\b\b\b\b\b\b\b\b\b\b\b\b\b\b\b\b\b\b\b\b\b\b\b\b\b\b\b\b\b\b\b\b\b\b\b\b\b\b\b\b\b\b\b\b\b\b\b\b\b\b\b\b\b\b\b\b\b\b\n",
      "Epoch 1: val_loss improved from inf to 1.32949, saving model to ./model2_best_weights.h5\n",
      "20/20 [==============================] - 85s 4s/step - loss: 4.1846 - accuracy: 0.4368 - val_loss: 1.3295 - val_accuracy: 0.6971\n",
      "Epoch 2/2\n",
      "20/20 [==============================] - ETA: 0s - loss: 1.6602 - accuracy: 0.6768\b\b\b\b\b\b\b\b\b\b\b\b\b\b\b\b\b\b\b\b\b\b\b\b\b\b\b\b\b\b\b\b\b\b\b\b\b\b\b\b\b\b\b\b\b\b\b\b\b\b\b\b\b\b\b\b\b\b\b\b\b\b\b\b\b\b\b\b\b\b\b\b\b\b\b\b\b\b\b\b\b\b\b\b\b\b\n",
      "Epoch 2: val_loss did not improve from 1.32949\n",
      "20/20 [==============================] - 84s 4s/step - loss: 1.6602 - accuracy: 0.6768 - val_loss: 1.3901 - val_accuracy: 0.7067\n"
     ]
    },
    {
     "name": "stderr",
     "output_type": "stream",
     "text": [
      "/anaconda/envs/jupyter_env/lib/python3.8/site-packages/PIL/Image.py:3167: DecompressionBombWarning: Image size (93680328 pixels) exceeds limit of 89478485 pixels, could be decompression bomb DOS attack.\n",
      "  warnings.warn(\n"
     ]
    }
   ],
   "source": [
    "with tf.device('/gpu:0'): \n",
    "    history2 = model2.fit(train_flow,\n",
    "                    validation_data=val_flow,\n",
    "                    batch_size=batch_size, epochs=2, callbacks=callbacks_list, verbose=1)\n"
   ]
  },
  {
   "cell_type": "code",
   "execution_count": 46,
   "metadata": {
    "gather": {
     "logged": 1679477793182
    },
    "scrolled": true
   },
   "outputs": [
    {
     "name": "stdout",
     "output_type": "stream",
     "text": [
      "20/20 [==============================] - 61s 3s/step - loss: 0.6576 - accuracy: 0.8080\b\b\b\b\b\b\b\b\b\b\b\b\b\b\b\b\b\b\b\b\b\b\b\b\b\b\b\b\b\b\b\b\b\b\b\b\b\b\b\b\b\b\b\b\b\b\b\b\b\b\b\b\b\b\b\b\b\b\b\b\b\b\b\b\b\b\b\b\b\b\b\b\b\b\b\b\b\b\b\b\b\b\n",
      "Training Accuracy   : 0.8080\n",
      "\n",
      "7/7 [==============================] - 21s 3s/step - loss: 1.2189 - accuracy: 0.7212\b\b\b\b\b\b\b\b\b\b\b\b\b\b\b\b\b\b\b\b\b\b\b\b\b\b\b\b\b\b\b\b\b\b\b\b\b\b\b\b\b\b\b\b\b\b\b\b\b\b\b\b\b\b\b\b\b\b\b\b\b\b\b\b\b\b\b\b\b\b\b\b\b\b\b\b\b\b\n",
      "Validation Accuracy :  0.7212\n"
     ]
    }
   ],
   "source": [
    "# Score du dernier epoch\n",
    "\n",
    "loss, accuracy = model2.evaluate(train_flow, verbose=True)\n",
    "print(\"Training Accuracy   : {:.4f}\".format(accuracy))\n",
    "print()\n",
    "loss, accuracy = model2.evaluate(val_flow, verbose=True)\n",
    "print(\"Validation Accuracy :  {:.4f}\".format(accuracy))"
   ]
  },
  {
   "cell_type": "code",
   "execution_count": 47,
   "metadata": {
    "gather": {
     "logged": 1679477839895
    }
   },
   "outputs": [
    {
     "name": "stdout",
     "output_type": "stream",
     "text": [
      "Validation Accuracy :  0.7308\n",
      "Test Accuracy       :  0.7302\n"
     ]
    }
   ],
   "source": [
    "# Score de l'epoch optimal\n",
    "\n",
    "model2.load_weights(model2_save_path)\n",
    "\n",
    "loss, accuracy = model2.evaluate(val_flow, verbose=False)\n",
    "print(\"Validation Accuracy :  {:.4f}\".format(accuracy))\n",
    "\n",
    "loss, accuracy = model2.evaluate(test_flow, verbose=False)\n",
    "print(\"Test Accuracy       :  {:.4f}\".format(accuracy))\n"
   ]
  },
  {
   "cell_type": "code",
   "execution_count": 48,
   "metadata": {
    "gather": {
     "logged": 1679477840822
    }
   },
   "outputs": [
    {
     "data": {
      "image/png": "[encoded data removed]",
      "text/plain": [
       "<Figure size 1000x500 with 2 Axes>"
      ]
     },
     "metadata": {},
     "output_type": "display_data"
    }
   ],
   "source": [
    "from plot_keras_history import show_history, plot_history\n",
    "import matplotlib.pyplot as plt\n",
    "\n",
    "show_history(history2)\n",
    "plot_history(history2, path=\"standard.png\")\n",
    "plt.close()"
   ]
  },
  {
   "cell_type": "markdown",
   "metadata": {},
   "source": [
    "## Approche nouvelle par Dataset sans data augmentation\n",
    "\n",
    "CF https://www.tensorflow.org/tutorials/load_data/images"
   ]
  },
  {
   "cell_type": "code",
   "execution_count": 49,
   "metadata": {
    "gather": {
     "logged": 1679477841561
    },
    "jupyter": {
     "outputs_hidden": false,
     "source_hidden": false
    },
    "nteract": {
     "transient": {
      "deleting": false
     }
    }
   },
   "outputs": [],
   "source": [
    "import os\n",
    "import shutil\n",
    "\n",
    "# Le chemin vers le dossier d'entraînement\n",
    "train_dir = 'train-copy/'\n",
    "\n",
    "# La table de correspondance entre le nom de l'image et son étiquette\n",
    "data_train_dic = data.set_index('image_path')['label_name'].to_dict()\n",
    "\n",
    "# Boucle à travers chaque image dans le dossier de formation\n",
    "for filename in os.listdir(train_dir):\n",
    "    # Si l'élément de la boucle est un fichier image\n",
    "    if filename.endswith('.jpg') or filename.endswith('.jpeg') or filename.endswith('.png'):\n",
    "        # Trouver l'étiquette associée à l'image en utilisant la table de correspondance\n",
    "        label_name = data_train_dic.get(filename)\n",
    "        # Si l'étiquette existe dans la table de correspondance\n",
    "        if label_name is not None:\n",
    "            # Créer un nouveau dossier pour l'étiquette s'il n'existe pas déjà\n",
    "            print(label_name)\n",
    "            label_dir = os.path.join(train_dir, label_name)\n",
    "            if not os.path.exists(label_dir):\n",
    "                os.makedirs(label_dir)\n",
    "                print(label_dir)\n",
    "            # Déplacer l'image dans le sous-dossier de l'étiquette\n",
    "            src_path = os.path.join(train_dir, filename)\n",
    "            dst_path = os.path.join(label_dir, filename)\n",
    "            shutil.move(src_path, dst_path)"
   ]
  },
  {
   "cell_type": "code",
   "execution_count": 50,
   "metadata": {
    "gather": {
     "logged": 1679477842288
    },
    "jupyter": {
     "outputs_hidden": false,
     "source_hidden": false
    },
    "nteract": {
     "transient": {
      "deleting": false
     }
    }
   },
   "outputs": [],
   "source": [
    "import os\n",
    "import shutil\n",
    "\n",
    "# Le chemin vers le dossier d'entraînement\n",
    "test_dir = 'test-copy/'\n",
    "\n",
    "# La table de correspondance entre le nom de l'image et son étiquette\n",
    "data_test_dic = data_test.set_index('image_path')['label_name'].to_dict()\n",
    "\n",
    "# Boucle à travers chaque image dans le dossier de formation\n",
    "for filename in os.listdir(test_dir):\n",
    "    # Si l'élément de la boucle est un fichier image\n",
    "    if filename.endswith('.jpg') or filename.endswith('.jpeg') or filename.endswith('.png'):\n",
    "        # Trouver l'étiquette associée à l'image en utilisant la table de correspondance\n",
    "        label_name = data_test_dic.get(filename)\n",
    "        # Si l'étiquette existe dans la table de correspondance\n",
    "        if label_name is not None:\n",
    "            # Créer un nouveau dossier pour l'étiquette s'il n'existe pas déjà\n",
    "            print(label_name)\n",
    "            label_dir = os.path.join(test_dir, label_name)\n",
    "            if not os.path.exists(label_dir):\n",
    "                os.makedirs(label_dir)\n",
    "                print(label_dir)\n",
    "            # Déplacer l'image dans le sous-dossier de l'étiquette\n",
    "            src_path = os.path.join(test_dir, filename)\n",
    "            dst_path = os.path.join(label_dir, filename)\n",
    "            shutil.move(src_path, dst_path)"
   ]
  },
  {
   "cell_type": "code",
   "execution_count": 51,
   "metadata": {
    "gather": {
     "logged": 1679477843024
    }
   },
   "outputs": [],
   "source": [
    "batch_size = 32\n",
    "\n",
    "def dataset_fct(path, validation_split=0, data_type=None) :\n",
    "    dataset = tf.keras.utils.image_dataset_from_directory(\n",
    "                    path, labels='inferred', label_mode='categorical', #'inferred'\n",
    "                    class_names=None, batch_size=32, image_size=(224, 224), shuffle=True, seed=42,\n",
    "                    validation_split=validation_split, subset=data_type\n",
    "                    )\n",
    "    return dataset"
   ]
  },
  {
   "cell_type": "code",
   "execution_count": 52,
   "metadata": {
    "gather": {
     "logged": 1679477843734
    }
   },
   "outputs": [
    {
     "name": "stdout",
     "output_type": "stream",
     "text": [
      "Found 833 files belonging to 7 classes.\n",
      "Using 625 files for training.\n",
      "Found 833 files belonging to 7 classes.\n",
      "Using 208 files for validation.\n",
      "Found 215 files belonging to 7 classes.\n"
     ]
    }
   ],
   "source": [
    "dataset_train = dataset_fct('train-copy', validation_split=0.25, data_type='training')\n",
    "dataset_val = dataset_fct('train-copy', validation_split=0.25, data_type='validation')\n",
    "dataset_test = dataset_fct('test-copy', validation_split=0, data_type=None)"
   ]
  },
  {
   "cell_type": "code",
   "execution_count": 53,
   "metadata": {
    "gather": {
     "logged": 1679477844825
    },
    "scrolled": true
   },
   "outputs": [
    {
     "name": "stdout",
     "output_type": "stream",
     "text": [
      "Model: \"model_3\"\n",
      "_________________________________________________________________\n",
      " Layer (type)                Output Shape              Param #   \n",
      "=================================================================\n",
      " input_4 (InputLayer)        [(None, 224, 224, 3)]     0         \n",
      "                                                                 \n",
      " block1_conv1 (Conv2D)       (None, 224, 224, 64)      1792      \n",
      "                                                                 \n",
      " block1_conv2 (Conv2D)       (None, 224, 224, 64)      36928     \n",
      "                                                                 \n",
      " block1_pool (MaxPooling2D)  (None, 112, 112, 64)      0         \n",
      "                                                                 \n",
      " block2_conv1 (Conv2D)       (None, 112, 112, 128)     73856     \n",
      "                                                                 \n",
      " block2_conv2 (Conv2D)       (None, 112, 112, 128)     147584    \n",
      "                                                                 \n",
      " block2_pool (MaxPooling2D)  (None, 56, 56, 128)       0         \n",
      "                                                                 \n",
      " block3_conv1 (Conv2D)       (None, 56, 56, 256)       295168    \n",
      "                                                                 \n",
      " block3_conv2 (Conv2D)       (None, 56, 56, 256)       590080    \n",
      "                                                                 \n",
      " block3_conv3 (Conv2D)       (None, 56, 56, 256)       590080    \n",
      "                                                                 \n",
      " block3_pool (MaxPooling2D)  (None, 28, 28, 256)       0         \n",
      "                                                                 \n",
      " block4_conv1 (Conv2D)       (None, 28, 28, 512)       1180160   \n",
      "                                                                 \n",
      " block4_conv2 (Conv2D)       (None, 28, 28, 512)       2359808   \n",
      "                                                                 \n",
      " block4_conv3 (Conv2D)       (None, 28, 28, 512)       2359808   \n",
      "                                                                 \n",
      " block4_pool (MaxPooling2D)  (None, 14, 14, 512)       0         \n",
      "                                                                 \n",
      " block5_conv1 (Conv2D)       (None, 14, 14, 512)       2359808   \n",
      "                                                                 \n",
      " block5_conv2 (Conv2D)       (None, 14, 14, 512)       2359808   \n",
      "                                                                 \n",
      " block5_conv3 (Conv2D)       (None, 14, 14, 512)       2359808   \n",
      "                                                                 \n",
      " block5_pool (MaxPooling2D)  (None, 7, 7, 512)         0         \n",
      "                                                                 \n",
      " global_average_pooling2d_2   (None, 512)              0         \n",
      " (GlobalAveragePooling2D)                                        \n",
      "                                                                 \n",
      " dense_4 (Dense)             (None, 256)               131328    \n",
      "                                                                 \n",
      " dropout_2 (Dropout)         (None, 256)               0         \n",
      "                                                                 \n",
      " dense_5 (Dense)             (None, 7)                 1799      \n",
      "                                                                 \n",
      "=================================================================\n",
      "Total params: 14,847,815\n",
      "Trainable params: 133,127\n",
      "Non-trainable params: 14,714,688\n",
      "_________________________________________________________________\n",
      "None\n"
     ]
    }
   ],
   "source": [
    "# Création du modèle\n",
    "with tf.device('/gpu:0'): \n",
    "    model3 = create_model_fct()\n",
    "\n",
    "# Création du callback\n",
    "model3_save_path = \"./model3_best_weights.h5\"\n",
    "checkpoint = ModelCheckpoint(model3_save_path, monitor='val_loss', verbose=1, save_best_only=True, mode='min')\n",
    "es = EarlyStopping(monitor='val_loss', mode='min', verbose=1, patience=5)\n",
    "callbacks_list = [checkpoint, es]\n"
   ]
  },
  {
   "cell_type": "code",
   "execution_count": 54,
   "metadata": {
    "gather": {
     "logged": 1679477845496
    },
    "scrolled": true
   },
   "outputs": [
    {
     "name": "stdout",
     "output_type": "stream",
     "text": [
      "Num GPUs Available:  0\n"
     ]
    }
   ],
   "source": [
    "print(\"Num GPUs Available: \", len(tf.config.list_physical_devices('GPU')))\n"
   ]
  },
  {
   "cell_type": "code",
   "execution_count": 55,
   "metadata": {
    "gather": {
     "logged": 1679477976209
    },
    "scrolled": true
   },
   "outputs": [
    {
     "name": "stdout",
     "output_type": "stream",
     "text": [
      "Epoch 1/2\n",
      "20/20 [==============================] - ETA: 0s - loss: 5.7459 - accuracy: 0.4432\b\b\b\b\b\b\b\b\b\b\b\b\b\b\b\b\b\b\b\b\b\b\b\b\b\b\b\b\b\b\b\b\b\b\b\b\b\b\b\b\b\b\b\b\b\b\b\b\b\b\b\b\b\b\b\b\b\b\b\b\b\b\b\b\b\b\b\b\b\b\b\b\b\b\b\b\b\b\b\b\b\b\b\b\b\b\b\b\n",
      "Epoch 1: val_loss improved from inf to 1.81743, saving model to ./model3_best_weights.h5\n",
      "20/20 [==============================] - 68s 3s/step - loss: 5.7459 - accuracy: 0.4432 - val_loss: 1.8174 - val_accuracy: 0.7260\n",
      "Epoch 2/2\n",
      "20/20 [==============================] - ETA: 0s - loss: 2.5059 - accuracy: 0.6816\b\b\b\b\b\b\b\b\b\b\b\b\b\b\b\b\b\b\b\b\b\b\b\b\b\b\b\b\b\b\b\b\b\b\b\b\b\b\b\b\b\b\b\b\b\b\b\b\b\b\b\b\b\b\b\b\b\b\b\b\b\b\b\b\b\b\b\b\b\b\b\b\b\b\b\b\b\b\b\b\b\b\b\b\b\b\n",
      "Epoch 2: val_loss improved from 1.81743 to 1.38832, saving model to ./model3_best_weights.h5\n",
      "20/20 [==============================] - 67s 3s/step - loss: 2.5059 - accuracy: 0.6816 - val_loss: 1.3883 - val_accuracy: 0.7212\n"
     ]
    }
   ],
   "source": [
    "with tf.device('/gpu:0'): \n",
    "    history3 = model3.fit(dataset_train,\n",
    "                    validation_data=dataset_val,\n",
    "                    batch_size=batch_size, epochs=2, callbacks=callbacks_list, verbose=1)\n"
   ]
  },
  {
   "cell_type": "code",
   "execution_count": 56,
   "metadata": {
    "gather": {
     "logged": 1679478043267
    },
    "scrolled": true
   },
   "outputs": [
    {
     "name": "stdout",
     "output_type": "stream",
     "text": [
      "20/20 [==============================] - 49s 2s/step - loss: 0.6208 - accuracy: 0.8576\b\b\b\b\b\b\b\b\b\b\b\b\b\b\b\b\b\b\b\b\b\b\b\b\b\b\b\b\b\b\b\b\b\b\b\b\b\b\b\b\b\b\b\b\b\b\b\b\b\b\b\b\b\b\b\b\b\b\b\b\b\b\b\b\b\b\b\b\b\b\b\b\b\b\b\b\b\b\b\b\b\b\n",
      "Training Accuracy   : 0.8576\n",
      "\n",
      "7/7 [==============================] - 18s 2s/step - loss: 1.3883 - accuracy: 0.7212\b\b\b\b\b\b\b\b\b\b\b\b\b\b\b\b\b\b\b\b\b\b\b\b\b\b\b\b\b\b\b\b\b\b\b\b\b\b\b\b\b\b\b\b\b\b\b\b\b\b\b\b\b\b\b\b\b\b\b\b\b\b\b\b\b\b\b\b\b\b\b\b\b\b\b\b\b\b\n",
      "Validation Accuracy :  0.7212\n"
     ]
    }
   ],
   "source": [
    "# Score du dernier epoch\n",
    "\n",
    "loss, accuracy = model3.evaluate(dataset_train, verbose=True)\n",
    "print(\"Training Accuracy   : {:.4f}\".format(accuracy))\n",
    "print()\n",
    "loss, accuracy = model3.evaluate(dataset_val, verbose=True)\n",
    "print(\"Validation Accuracy :  {:.4f}\".format(accuracy))"
   ]
  },
  {
   "cell_type": "code",
   "execution_count": 57,
   "metadata": {
    "gather": {
     "logged": 1679478081340
    }
   },
   "outputs": [
    {
     "name": "stdout",
     "output_type": "stream",
     "text": [
      "Validation Accuracy :  0.7212\n",
      "Test Accuracy       :  0.7302\n"
     ]
    }
   ],
   "source": [
    "# Score de l'epoch optimal\n",
    "\n",
    "model3.load_weights(model3_save_path)\n",
    "\n",
    "loss, accuracy = model3.evaluate(dataset_val, verbose=False)\n",
    "print(\"Validation Accuracy :  {:.4f}\".format(accuracy))\n",
    "\n",
    "loss, accuracy = model3.evaluate(dataset_test, verbose=False)\n",
    "print(\"Test Accuracy       :  {:.4f}\".format(accuracy))\n"
   ]
  },
  {
   "cell_type": "code",
   "execution_count": 58,
   "metadata": {
    "gather": {
     "logged": 1679478082246
    }
   },
   "outputs": [
    {
     "data": {
      "image/png": "[encoded data removed]",
      "text/plain": [
       "<Figure size 1000x500 with 2 Axes>"
      ]
     },
     "metadata": {},
     "output_type": "display_data"
    }
   ],
   "source": [
    "from plot_keras_history import show_history, plot_history\n",
    "import matplotlib.pyplot as plt\n",
    "\n",
    "show_history(history3)\n",
    "plot_history(history3, path=\"standard.png\")\n",
    "plt.close()"
   ]
  },
  {
   "cell_type": "markdown",
   "metadata": {},
   "source": [
    "## Approche nouvelle par Dataset avec data augmentation intégrée au modèle\n",
    "\n",
    "CF https://www.tensorflow.org/tutorials/images/data_augmentation"
   ]
  },
  {
   "cell_type": "code",
   "execution_count": 59,
   "metadata": {
    "gather": {
     "logged": 1679478082970
    }
   },
   "outputs": [],
   "source": [
    "batch_size = 32\n",
    "\n",
    "def dataset_fct(path, validation_split=0, data_type=None) :\n",
    "    dataset = tf.keras.utils.image_dataset_from_directory(\n",
    "                    path, labels='inferred', label_mode='categorical',\n",
    "                    class_names=None, batch_size=batch_size, image_size=(224, 224), shuffle=True, seed=42,\n",
    "                    validation_split=validation_split, subset=data_type\n",
    "                    )\n",
    "    return dataset"
   ]
  },
  {
   "cell_type": "code",
   "execution_count": 60,
   "metadata": {
    "gather": {
     "logged": 1679478083680
    }
   },
   "outputs": [
    {
     "name": "stdout",
     "output_type": "stream",
     "text": [
      "Found 833 files belonging to 7 classes.\n",
      "Using 625 files for training.\n",
      "Found 833 files belonging to 7 classes.\n",
      "Using 208 files for validation.\n",
      "Found 215 files belonging to 7 classes.\n"
     ]
    }
   ],
   "source": [
    "dataset_train = dataset_fct('train-copy', validation_split=0.25, data_type='training')\n",
    "dataset_val = dataset_fct('train-copy', validation_split=0.25, data_type='validation')\n",
    "dataset_test = dataset_fct('test-copy', validation_split=0, data_type=None)"
   ]
  },
  {
   "cell_type": "code",
   "execution_count": 61,
   "metadata": {
    "gather": {
     "logged": 1679478084418
    }
   },
   "outputs": [],
   "source": [
    "def resize_and_rescale(image, label):\n",
    "    image = tf.cast(image, tf.float32)\n",
    "    image = tf.image.resize(image, [IMG_SIZE, IMG_SIZE])\n",
    "    image = (image / 255.0)\n",
    "    return image, label\n",
    "\n"
   ]
  },
  {
   "cell_type": "code",
   "execution_count": 62,
   "metadata": {
    "gather": {
     "logged": 1679478085135
    }
   },
   "outputs": [],
   "source": [
    "def create_model_fct2() :\n",
    "    # Data augmentation\n",
    "    data_augmentation = Sequential([\n",
    "        RandomFlip(\"horizontal\", input_shape=(224, 224, 3)),\n",
    "        RandomRotation(0.1),\n",
    "        RandomZoom(0.1),\n",
    "        # Rescaling(1./127.5, offset=-1.0)\n",
    "      ])\n",
    "    \n",
    "    # Récupération modèle pré-entraîné\n",
    "    model_base = VGG16(include_top=False, weights=\"imagenet\", input_shape=(224, 224, 3))\n",
    "    for layer in model_base.layers:\n",
    "        layer.trainable = False\n",
    "\n",
    "    # Définition du nouveau modèle\n",
    "    model = Sequential([\n",
    "                data_augmentation,\n",
    "                Rescaling(1./127.5, offset=-1),\n",
    "                model_base,\n",
    "                GlobalAveragePooling2D(),\n",
    "                Dense(256, activation='relu'),\n",
    "                Dropout(0.5),\n",
    "                Dense(7, activation='softmax')#4\n",
    "                ])\n",
    "\n",
    "    # compilation du modèle \n",
    "    model.compile(loss=\"categorical_crossentropy\", optimizer='adam', metrics=[\"accuracy\"])\n",
    "\n",
    "    print(model.summary())\n",
    "    \n",
    "    return model\n",
    "    "
   ]
  },
  {
   "cell_type": "code",
   "execution_count": 63,
   "metadata": {
    "gather": {
     "logged": 1679478086547
    },
    "scrolled": true
   },
   "outputs": [
    {
     "name": "stdout",
     "output_type": "stream",
     "text": [
      "WARNING:tensorflow:Using a while_loop for converting RngReadAndSkip cause there is no registered converter for this op.\n",
      "WARNING:tensorflow:Using a while_loop for converting Bitcast cause there is no registered converter for this op.\n",
      "WARNING:tensorflow:Using a while_loop for converting Bitcast cause there is no registered converter for this op.\n",
      "WARNING:tensorflow:Using a while_loop for converting StatelessRandomUniformV2 cause there is no registered converter for this op.\n",
      "WARNING:tensorflow:Using a while_loop for converting ImageProjectiveTransformV3 cause there is no registered converter for this op.\n",
      "WARNING:tensorflow:Using a while_loop for converting RngReadAndSkip cause there is no registered converter for this op.\n",
      "WARNING:tensorflow:Using a while_loop for converting Bitcast cause there is no registered converter for this op.\n",
      "WARNING:tensorflow:Using a while_loop for converting Bitcast cause there is no registered converter for this op.\n",
      "WARNING:tensorflow:Using a while_loop for converting StatelessRandomUniformV2 cause there is no registered converter for this op.\n",
      "WARNING:tensorflow:Using a while_loop for converting ImageProjectiveTransformV3 cause there is no registered converter for this op.\n",
      "WARNING:tensorflow:Using a while_loop for converting RngReadAndSkip cause there is no registered converter for this op.\n",
      "WARNING:tensorflow:Using a while_loop for converting Bitcast cause there is no registered converter for this op.\n",
      "WARNING:tensorflow:Using a while_loop for converting Bitcast cause there is no registered converter for this op.\n",
      "WARNING:tensorflow:Using a while_loop for converting StatelessRandomUniformV2 cause there is no registered converter for this op.\n",
      "WARNING:tensorflow:Using a while_loop for converting ImageProjectiveTransformV3 cause there is no registered converter for this op.\n",
      "WARNING:tensorflow:Using a while_loop for converting RngReadAndSkip cause there is no registered converter for this op.\n",
      "WARNING:tensorflow:Using a while_loop for converting Bitcast cause there is no registered converter for this op.\n",
      "WARNING:tensorflow:Using a while_loop for converting Bitcast cause there is no registered converter for this op.\n",
      "WARNING:tensorflow:Using a while_loop for converting StatelessRandomUniformV2 cause there is no registered converter for this op.\n",
      "WARNING:tensorflow:Using a while_loop for converting ImageProjectiveTransformV3 cause there is no registered converter for this op.\n",
      "Model: \"sequential_1\"\n",
      "_________________________________________________________________\n",
      " Layer (type)                Output Shape              Param #   \n",
      "=================================================================\n",
      " sequential (Sequential)     (None, 224, 224, 3)       0         \n",
      "                                                                 \n",
      " rescaling (Rescaling)       (None, 224, 224, 3)       0         \n",
      "                                                                 \n",
      " vgg16 (Functional)          (None, 7, 7, 512)         14714688  \n",
      "                                                                 \n",
      " global_average_pooling2d_3   (None, 512)              0         \n",
      " (GlobalAveragePooling2D)                                        \n",
      "                                                                 \n",
      " dense_6 (Dense)             (None, 256)               131328    \n",
      "                                                                 \n",
      " dropout_3 (Dropout)         (None, 256)               0         \n",
      "                                                                 \n",
      " dense_7 (Dense)             (None, 7)                 1799      \n",
      "                                                                 \n",
      "=================================================================\n",
      "Total params: 14,847,815\n",
      "Trainable params: 133,127\n",
      "Non-trainable params: 14,714,688\n",
      "_________________________________________________________________\n",
      "None\n"
     ]
    }
   ],
   "source": [
    "# Création du modèle\n",
    "with tf.device('/gpu:0'): \n",
    "    model4 = create_model_fct2()\n",
    "\n",
    "# Création du callback\n",
    "model4_save_path = \"./model4_best_weights.h5\"\n",
    "checkpoint = ModelCheckpoint(model4_save_path, monitor='val_loss', verbose=1, save_best_only=True, mode='min')\n",
    "es = EarlyStopping(monitor='val_loss', mode='min', verbose=1, patience=5)\n",
    "callbacks_list = [checkpoint, es]\n"
   ]
  },
  {
   "cell_type": "code",
   "execution_count": 64,
   "metadata": {
    "gather": {
     "logged": 1679478087191
    },
    "scrolled": true
   },
   "outputs": [
    {
     "name": "stdout",
     "output_type": "stream",
     "text": [
      "Num GPUs Available:  0\n"
     ]
    }
   ],
   "source": [
    "print(\"Num GPUs Available: \", len(tf.config.list_physical_devices('GPU')))\n"
   ]
  },
  {
   "cell_type": "code",
   "execution_count": 65,
   "metadata": {
    "gather": {
     "logged": 1679384711538
    },
    "scrolled": true
   },
   "outputs": [
    {
     "name": "stdout",
     "output_type": "stream",
     "text": [
      "Epoch 1/50\n",
      "WARNING:tensorflow:Using a while_loop for converting RngReadAndSkip cause there is no registered converter for this op.\n",
      "WARNING:tensorflow:Using a while_loop for converting Bitcast cause there is no registered converter for this op.\n",
      "WARNING:tensorflow:Using a while_loop for converting Bitcast cause there is no registered converter for this op.\n",
      "WARNING:tensorflow:Using a while_loop for converting StatelessRandomUniformV2 cause there is no registered converter for this op.\n",
      "WARNING:tensorflow:Using a while_loop for converting ImageProjectiveTransformV3 cause there is no registered converter for this op.\n",
      "WARNING:tensorflow:Using a while_loop for converting RngReadAndSkip cause there is no registered converter for this op.\n",
      "WARNING:tensorflow:Using a while_loop for converting Bitcast cause there is no registered converter for this op.\n",
      "WARNING:tensorflow:Using a while_loop for converting Bitcast cause there is no registered converter for this op.\n",
      "WARNING:tensorflow:Using a while_loop for converting StatelessRandomUniformV2 cause there is no registered converter for this op.\n",
      "WARNING:tensorflow:Using a while_loop for converting ImageProjectiveTransformV3 cause there is no registered converter for this op.\n",
      "WARNING:tensorflow:Using a while_loop for converting RngReadAndSkip cause there is no registered converter for this op.\n",
      "WARNING:tensorflow:Using a while_loop for converting Bitcast cause there is no registered converter for this op.\n",
      "WARNING:tensorflow:Using a while_loop for converting Bitcast cause there is no registered converter for this op.\n",
      "WARNING:tensorflow:Using a while_loop for converting StatelessRandomUniformV2 cause there is no registered converter for this op.\n",
      "WARNING:tensorflow:Using a while_loop for converting ImageProjectiveTransformV3 cause there is no registered converter for this op.\n",
      "WARNING:tensorflow:Using a while_loop for converting RngReadAndSkip cause there is no registered converter for this op.\n",
      "WARNING:tensorflow:Using a while_loop for converting Bitcast cause there is no registered converter for this op.\n",
      "WARNING:tensorflow:Using a while_loop for converting Bitcast cause there is no registered converter for this op.\n",
      "WARNING:tensorflow:Using a while_loop for converting StatelessRandomUniformV2 cause there is no registered converter for this op.\n",
      "WARNING:tensorflow:Using a while_loop for converting ImageProjectiveTransformV3 cause there is no registered converter for this op.\n",
      "20/20 [==============================] - ETA: 0s - loss: 1.8404 - accuracy: 0.2592\b\b\b\b\b\b\b\b\b\b\b\b\b\b\b\b\b\b\b\b\b\b\b\b\b\b\b\b\b\b\b\b\b\b\b\b\b\b\b\b\b\b\b\b\b\b\b\b\b\b\b\b\b\b\b\b\b\b\b\b\b\b\b\b\b\b\b\b\b\b\b\b\b\b\b\b\b\b\b\b\b\b\b\b\b\b\n",
      "Epoch 1: val_loss improved from inf to 1.47617, saving model to ./model4_best_weights.h5\n",
      "20/20 [==============================] - 80s 4s/step - loss: 1.8404 - accuracy: 0.2592 - val_loss: 1.4762 - val_accuracy: 0.6010\n",
      "Epoch 2/50\n",
      "20/20 [==============================] - ETA: 0s - loss: 1.4246 - accuracy: 0.5232\b\b\b\b\b\b\b\b\b\b\b\b\b\b\b\b\b\b\b\b\b\b\b\b\b\b\b\b\b\b\b\b\b\b\b\b\b\b\b\b\b\b\b\b\b\b\b\b\b\b\b\b\b\b\b\b\b\b\b\b\b\b\b\b\b\b\b\b\b\b\b\b\b\b\b\b\b\b\b\b\b\b\b\b\b\b\n",
      "Epoch 2: val_loss improved from 1.47617 to 1.12815, saving model to ./model4_best_weights.h5\n",
      "20/20 [==============================] - 68s 3s/step - loss: 1.4246 - accuracy: 0.5232 - val_loss: 1.1282 - val_accuracy: 0.6827\n",
      "Epoch 3/50\n",
      "20/20 [==============================] - ETA: 0s - loss: 1.1732 - accuracy: 0.6144\b\b\b\b\b\b\b\b\b\b\b\b\b\b\b\b\b\b\b\b\b\b\b\b\b\b\b\b\b\b\b\b\b\b\b\b\b\b\b\b\b\b\b\b\b\b\b\b\b\b\b\b\b\b\b\b\b\b\b\b\b\b\b\b\b\b\b\b\b\b\b\b\b\b\b\b\b\b\b\b\b\b\b\b\b\b\n",
      "Epoch 3: val_loss improved from 1.12815 to 0.97775, saving model to ./model4_best_weights.h5\n",
      "20/20 [==============================] - 69s 3s/step - loss: 1.1732 - accuracy: 0.6144 - val_loss: 0.9778 - val_accuracy: 0.7115\n",
      "Epoch 4/50\n",
      "20/20 [==============================] - ETA: 0s - loss: 1.0436 - accuracy: 0.6608\b\b\b\b\b\b\b\b\b\b\b\b\b\b\b\b\b\b\b\b\b\b\b\b\b\b\b\b\b\b\b\b\b\b\b\b\b\b\b\b\b\b\b\b\b\b\b\b\b\b\b\b\b\b\b\b\b\b\b\b\b\b\b\b\b\b\b\b\b\b\b\b\b\b\b\b\b\b\b\b\b\b\b\b\b\b\n",
      "Epoch 4: val_loss improved from 0.97775 to 0.85434, saving model to ./model4_best_weights.h5\n",
      "20/20 [==============================] - 69s 3s/step - loss: 1.0436 - accuracy: 0.6608 - val_loss: 0.8543 - val_accuracy: 0.7644\n",
      "Epoch 5/50\n",
      "20/20 [==============================] - ETA: 0s - loss: 0.9280 - accuracy: 0.7104\b\b\b\b\b\b\b\b\b\b\b\b\b\b\b\b\b\b\b\b\b\b\b\b\b\b\b\b\b\b\b\b\b\b\b\b\b\b\b\b\b\b\b\b\b\b\b\b\b\b\b\b\b\b\b\b\b\b\b\b\b\b\b\b\b\b\b\b\b\b\b\b\b\b\b\b\b\b\b\b\b\b\b\b\b\b\n",
      "Epoch 5: val_loss improved from 0.85434 to 0.78892, saving model to ./model4_best_weights.h5\n",
      "20/20 [==============================] - 69s 3s/step - loss: 0.9280 - accuracy: 0.7104 - val_loss: 0.7889 - val_accuracy: 0.7740\n",
      "Epoch 6/50\n",
      "20/20 [==============================] - ETA: 0s - loss: 0.8740 - accuracy: 0.7056\b\b\b\b\b\b\b\b\b\b\b\b\b\b\b\b\b\b\b\b\b\b\b\b\b\b\b\b\b\b\b\b\b\b\b\b\b\b\b\b\b\b\b\b\b\b\b\b\b\b\b\b\b\b\b\b\b\b\b\b\b\b\b\b\b\b\b\b\b\b\b\b\b\b\b\b\b\b\b\b\b\b\b\b\b\b\n",
      "Epoch 6: val_loss improved from 0.78892 to 0.76440, saving model to ./model4_best_weights.h5\n",
      "20/20 [==============================] - 70s 3s/step - loss: 0.8740 - accuracy: 0.7056 - val_loss: 0.7644 - val_accuracy: 0.7644\n",
      "Epoch 7/50\n",
      "20/20 [==============================] - ETA: 0s - loss: 0.7976 - accuracy: 0.7344\b\b\b\b\b\b\b\b\b\b\b\b\b\b\b\b\b\b\b\b\b\b\b\b\b\b\b\b\b\b\b\b\b\b\b\b\b\b\b\b\b\b\b\b\b\b\b\b\b\b\b\b\b\b\b\b\b\b\b\b\b\b\b\b\b\b\b\b\b\b\b\b\b\b\b\b\b\b\b\b\b\b\b\b\b\b\n",
      "Epoch 7: val_loss improved from 0.76440 to 0.72931, saving model to ./model4_best_weights.h5\n",
      "20/20 [==============================] - 69s 3s/step - loss: 0.7976 - accuracy: 0.7344 - val_loss: 0.7293 - val_accuracy: 0.7644\n",
      "Epoch 8/50\n",
      "20/20 [==============================] - ETA: 0s - loss: 0.7919 - accuracy: 0.7456\b\b\b\b\b\b\b\b\b\b\b\b\b\b\b\b\b\b\b\b\b\b\b\b\b\b\b\b\b\b\b\b\b\b\b\b\b\b\b\b\b\b\b\b\b\b\b\b\b\b\b\b\b\b\b\b\b\b\b\b\b\b\b\b\b\b\b\b\b\b\b\b\b\b\b\b\b\b\b\b\b\b\b\b\b\b\n",
      "Epoch 8: val_loss improved from 0.72931 to 0.69200, saving model to ./model4_best_weights.h5\n",
      "20/20 [==============================] - 68s 3s/step - loss: 0.7919 - accuracy: 0.7456 - val_loss: 0.6920 - val_accuracy: 0.7885\n",
      "Epoch 9/50\n",
      "20/20 [==============================] - ETA: 0s - loss: 0.7782 - accuracy: 0.7440\b\b\b\b\b\b\b\b\b\b\b\b\b\b\b\b\b\b\b\b\b\b\b\b\b\b\b\b\b\b\b\b\b\b\b\b\b\b\b\b\b\b\b\b\b\b\b\b\b\b\b\b\b\b\b\b\b\b\b\b\b\b\b\b\b\b\b\b\b\b\b\b\b\b\b\b\b\b\b\b\b\b\b\b\b\b\n",
      "Epoch 9: val_loss improved from 0.69200 to 0.66123, saving model to ./model4_best_weights.h5\n",
      "20/20 [==============================] - 69s 3s/step - loss: 0.7782 - accuracy: 0.7440 - val_loss: 0.6612 - val_accuracy: 0.7837\n",
      "Epoch 10/50\n",
      "20/20 [==============================] - ETA: 0s - loss: 0.7397 - accuracy: 0.7696\b\b\b\b\b\b\b\b\b\b\b\b\b\b\b\b\b\b\b\b\b\b\b\b\b\b\b\b\b\b\b\b\b\b\b\b\b\b\b\b\b\b\b\b\b\b\b\b\b\b\b\b\b\b\b\b\b\b\b\b\b\b\b\b\b\b\b\b\b\b\b\b\b\b\b\b\b\b\b\b\b\b\b\b\b\b\n",
      "Epoch 10: val_loss improved from 0.66123 to 0.65098, saving model to ./model4_best_weights.h5\n",
      "20/20 [==============================] - 69s 3s/step - loss: 0.7397 - accuracy: 0.7696 - val_loss: 0.6510 - val_accuracy: 0.7981\n",
      "Epoch 11/50\n",
      "20/20 [==============================] - ETA: 0s - loss: 0.6876 - accuracy: 0.7872\b\b\b\b\b\b\b\b\b\b\b\b\b\b\b\b\b\b\b\b\b\b\b\b\b\b\b\b\b\b\b\b\b\b\b\b\b\b\b\b\b\b\b\b\b\b\b\b\b\b\b\b\b\b\b\b\b\b\b\b\b\b\b\b\b\b\b\b\b\b\b\b\b\b\b\b\b\b\b\b\b\b\b\b\b\b\n",
      "Epoch 11: val_loss improved from 0.65098 to 0.64878, saving model to ./model4_best_weights.h5\n",
      "20/20 [==============================] - 68s 3s/step - loss: 0.6876 - accuracy: 0.7872 - val_loss: 0.6488 - val_accuracy: 0.7837\n",
      "Epoch 12/50\n",
      "20/20 [==============================] - ETA: 0s - loss: 0.6696 - accuracy: 0.7856\b\b\b\b\b\b\b\b\b\b\b\b\b\b\b\b\b\b\b\b\b\b\b\b\b\b\b\b\b\b\b\b\b\b\b\b\b\b\b\b\b\b\b\b\b\b\b\b\b\b\b\b\b\b\b\b\b\b\b\b\b\b\b\b\b\b\b\b\b\b\b\b\b\b\b\b\b\b\b\b\b\b\b\b\b\b\n",
      "Epoch 12: val_loss improved from 0.64878 to 0.62616, saving model to ./model4_best_weights.h5\n",
      "20/20 [==============================] - 68s 3s/step - loss: 0.6696 - accuracy: 0.7856 - val_loss: 0.6262 - val_accuracy: 0.8029\n",
      "Epoch 13/50\n",
      "20/20 [==============================] - ETA: 0s - loss: 0.6488 - accuracy: 0.7872\b\b\b\b\b\b\b\b\b\b\b\b\b\b\b\b\b\b\b\b\b\b\b\b\b\b\b\b\b\b\b\b\b\b\b\b\b\b\b\b\b\b\b\b\b\b\b\b\b\b\b\b\b\b\b\b\b\b\b\b\b\b\b\b\b\b\b\b\b\b\b\b\b\b\b\b\b\b\b\b\b\b\b\b\b\b\n",
      "Epoch 13: val_loss improved from 0.62616 to 0.62255, saving model to ./model4_best_weights.h5\n",
      "20/20 [==============================] - 69s 3s/step - loss: 0.6488 - accuracy: 0.7872 - val_loss: 0.6226 - val_accuracy: 0.7933\n",
      "Epoch 14/50\n",
      "20/20 [==============================] - ETA: 0s - loss: 0.6241 - accuracy: 0.8016\b\b\b\b\b\b\b\b\b\b\b\b\b\b\b\b\b\b\b\b\b\b\b\b\b\b\b\b\b\b\b\b\b\b\b\b\b\b\b\b\b\b\b\b\b\b\b\b\b\b\b\b\b\b\b\b\b\b\b\b\b\b\b\b\b\b\b\b\b\b\b\b\b\b\b\b\b\b\b\b\b\b\b\b\b\b\n",
      "Epoch 14: val_loss improved from 0.62255 to 0.60983, saving model to ./model4_best_weights.h5\n",
      "20/20 [==============================] - 68s 3s/step - loss: 0.6241 - accuracy: 0.8016 - val_loss: 0.6098 - val_accuracy: 0.7981\n",
      "Epoch 15/50\n",
      "20/20 [==============================] - ETA: 0s - loss: 0.5901 - accuracy: 0.8144\b\b\b\b\b\b\b\b\b\b\b\b\b\b\b\b\b\b\b\b\b\b\b\b\b\b\b\b\b\b\b\b\b\b\b\b\b\b\b\b\b\b\b\b\b\b\b\b\b\b\b\b\b\b\b\b\b\b\b\b\b\b\b\b\b\b\b\b\b\b\b\b\b\b\b\b\b\b\b\b\b\b\b\b\b\b\n",
      "Epoch 15: val_loss improved from 0.60983 to 0.59185, saving model to ./model4_best_weights.h5\n",
      "20/20 [==============================] - 68s 3s/step - loss: 0.5901 - accuracy: 0.8144 - val_loss: 0.5918 - val_accuracy: 0.7981\n",
      "Epoch 16/50\n",
      "20/20 [==============================] - ETA: 0s - loss: 0.5668 - accuracy: 0.8256\b\b\b\b\b\b\b\b\b\b\b\b\b\b\b\b\b\b\b\b\b\b\b\b\b\b\b\b\b\b\b\b\b\b\b\b\b\b\b\b\b\b\b\b\b\b\b\b\b\b\b\b\b\b\b\b\b\b\b\b\b\b\b\b\b\b\b\b\b\b\b\b\b\b\b\b\b\b\b\b\b\b\b\b\b\b\n",
      "Epoch 16: val_loss did not improve from 0.59185\n",
      "20/20 [==============================] - 67s 3s/step - loss: 0.5668 - accuracy: 0.8256 - val_loss: 0.5952 - val_accuracy: 0.7933\n",
      "Epoch 17/50\n",
      "20/20 [==============================] - ETA: 0s - loss: 0.5597 - accuracy: 0.8192\b\b\b\b\b\b\b\b\b\b\b\b\b\b\b\b\b\b\b\b\b\b\b\b\b\b\b\b\b\b\b\b\b\b\b\b\b\b\b\b\b\b\b\b\b\b\b\b\b\b\b\b\b\b\b\b\b\b\b\b\b\b\b\b\b\b\b\b\b\b\b\b\b\b\b\b\b\b\b\b\b\b\b\b\b\b\n",
      "Epoch 17: val_loss did not improve from 0.59185\n",
      "20/20 [==============================] - 68s 3s/step - loss: 0.5597 - accuracy: 0.8192 - val_loss: 0.6027 - val_accuracy: 0.7837\n",
      "Epoch 18/50\n",
      "20/20 [==============================] - ETA: 0s - loss: 0.5498 - accuracy: 0.8336\b\b\b\b\b\b\b\b\b\b\b\b\b\b\b\b\b\b\b\b\b\b\b\b\b\b\b\b\b\b\b\b\b\b\b\b\b\b\b\b\b\b\b\b\b\b\b\b\b\b\b\b\b\b\b\b\b\b\b\b\b\b\b\b\b\b\b\b\b\b\b\b\b\b\b\b\b\b\b\b\b\b\b\b\b\b\n",
      "Epoch 18: val_loss improved from 0.59185 to 0.58252, saving model to ./model4_best_weights.h5\n",
      "20/20 [==============================] - 68s 3s/step - loss: 0.5498 - accuracy: 0.8336 - val_loss: 0.5825 - val_accuracy: 0.8029\n",
      "Epoch 19/50\n",
      "20/20 [==============================] - ETA: 0s - loss: 0.5484 - accuracy: 0.8336\b\b\b\b\b\b\b\b\b\b\b\b\b\b\b\b\b\b\b\b\b\b\b\b\b\b\b\b\b\b\b\b\b\b\b\b\b\b\b\b\b\b\b\b\b\b\b\b\b\b\b\b\b\b\b\b\b\b\b\b\b\b\b\b\b\b\b\b\b\b\b\b\b\b\b\b\b\b\b\b\b\b\b\b\b\b\n",
      "Epoch 19: val_loss improved from 0.58252 to 0.57449, saving model to ./model4_best_weights.h5\n",
      "20/20 [==============================] - 69s 3s/step - loss: 0.5484 - accuracy: 0.8336 - val_loss: 0.5745 - val_accuracy: 0.8077\n",
      "Epoch 20/50\n",
      "20/20 [==============================] - ETA: 0s - loss: 0.5363 - accuracy: 0.8304\b\b\b\b\b\b\b\b\b\b\b\b\b\b\b\b\b\b\b\b\b\b\b\b\b\b\b\b\b\b\b\b\b\b\b\b\b\b\b\b\b\b\b\b\b\b\b\b\b\b\b\b\b\b\b\b\b\b\b\b\b\b\b\b\b\b\b\b\b\b\b\b\b\b\b\b\b\b\b\b\b\b\b\b\b\b\n",
      "Epoch 20: val_loss improved from 0.57449 to 0.57175, saving model to ./model4_best_weights.h5\n",
      "20/20 [==============================] - 69s 3s/step - loss: 0.5363 - accuracy: 0.8304 - val_loss: 0.5718 - val_accuracy: 0.8029\n",
      "Epoch 21/50\n",
      "20/20 [==============================] - ETA: 0s - loss: 0.5043 - accuracy: 0.8496\b\b\b\b\b\b\b\b\b\b\b\b\b\b\b\b\b\b\b\b\b\b\b\b\b\b\b\b\b\b\b\b\b\b\b\b\b\b\b\b\b\b\b\b\b\b\b\b\b\b\b\b\b\b\b\b\b\b\b\b\b\b\b\b\b\b\b\b\b\b\b\b\b\b\b\b\b\b\b\b\b\b\b\b\b\b\n",
      "Epoch 21: val_loss did not improve from 0.57175\n",
      "20/20 [==============================] - 68s 3s/step - loss: 0.5043 - accuracy: 0.8496 - val_loss: 0.5783 - val_accuracy: 0.8029\n",
      "Epoch 22/50\n",
      "20/20 [==============================] - ETA: 0s - loss: 0.4851 - accuracy: 0.8576\b\b\b\b\b\b\b\b\b\b\b\b\b\b\b\b\b\b\b\b\b\b\b\b\b\b\b\b\b\b\b\b\b\b\b\b\b\b\b\b\b\b\b\b\b\b\b\b\b\b\b\b\b\b\b\b\b\b\b\b\b\b\b\b\b\b\b\b\b\b\b\b\b\b\b\b\b\b\b\b\b\b\b\b\b\b\n",
      "Epoch 22: val_loss improved from 0.57175 to 0.54222, saving model to ./model4_best_weights.h5\n",
      "20/20 [==============================] - 69s 3s/step - loss: 0.4851 - accuracy: 0.8576 - val_loss: 0.5422 - val_accuracy: 0.8173\n",
      "Epoch 23/50\n",
      "20/20 [==============================] - ETA: 0s - loss: 0.4985 - accuracy: 0.8560\b\b\b\b\b\b\b\b\b\b\b\b\b\b\b\b\b\b\b\b\b\b\b\b\b\b\b\b\b\b\b\b\b\b\b\b\b\b\b\b\b\b\b\b\b\b\b\b\b\b\b\b\b\b\b\b\b\b\b\b\b\b\b\b\b\b\b\b\b\b\b\b\b\b\b\b\b\b\b\b\b\b\b\b\b\b\n",
      "Epoch 23: val_loss did not improve from 0.54222\n",
      "20/20 [==============================] - 70s 3s/step - loss: 0.4985 - accuracy: 0.8560 - val_loss: 0.5601 - val_accuracy: 0.7933\n",
      "Epoch 24/50\n",
      "20/20 [==============================] - ETA: 0s - loss: 0.4694 - accuracy: 0.8592\b\b\b\b\b\b\b\b\b\b\b\b\b\b\b\b\b\b\b\b\b\b\b\b\b\b\b\b\b\b\b\b\b\b\b\b\b\b\b\b\b\b\b\b\b\b\b\b\b\b\b\b\b\b\b\b\b\b\b\b\b\b\b\b\b\b\b\b\b\b\b\b\b\b\b\b\b\b\b\b\b\b\b\b\b\b\n",
      "Epoch 24: val_loss did not improve from 0.54222\n",
      "20/20 [==============================] - 69s 3s/step - loss: 0.4694 - accuracy: 0.8592 - val_loss: 0.5902 - val_accuracy: 0.7837\n",
      "Epoch 25/50\n",
      "20/20 [==============================] - ETA: 0s - loss: 0.4934 - accuracy: 0.8352\b\b\b\b\b\b\b\b\b\b\b\b\b\b\b\b\b\b\b\b\b\b\b\b\b\b\b\b\b\b\b\b\b\b\b\b\b\b\b\b\b\b\b\b\b\b\b\b\b\b\b\b\b\b\b\b\b\b\b\b\b\b\b\b\b\b\b\b\b\b\b\b\b\b\b\b\b\b\b\b\b\b\b\b\b\b\n",
      "Epoch 25: val_loss improved from 0.54222 to 0.53795, saving model to ./model4_best_weights.h5\n",
      "20/20 [==============================] - 70s 3s/step - loss: 0.4934 - accuracy: 0.8352 - val_loss: 0.5380 - val_accuracy: 0.8029\n",
      "Epoch 26/50\n",
      "20/20 [==============================] - ETA: 0s - loss: 0.4406 - accuracy: 0.8672\b\b\b\b\b\b\b\b\b\b\b\b\b\b\b\b\b\b\b\b\b\b\b\b\b\b\b\b\b\b\b\b\b\b\b\b\b\b\b\b\b\b\b\b\b\b\b\b\b\b\b\b\b\b\b\b\b\b\b\b\b\b\b\b\b\b\b\b\b\b\b\b\b\b\b\b\b\b\b\b\b\b\b\b\b\b\n",
      "Epoch 26: val_loss did not improve from 0.53795\n",
      "20/20 [==============================] - 68s 3s/step - loss: 0.4406 - accuracy: 0.8672 - val_loss: 0.5486 - val_accuracy: 0.8077\n",
      "Epoch 27/50\n",
      "20/20 [==============================] - ETA: 0s - loss: 0.4177 - accuracy: 0.8768\b\b\b\b\b\b\b\b\b\b\b\b\b\b\b\b\b\b\b\b\b\b\b\b\b\b\b\b\b\b\b\b\b\b\b\b\b\b\b\b\b\b\b\b\b\b\b\b\b\b\b\b\b\b\b\b\b\b\b\b\b\b\b\b\b\b\b\b\b\b\b\b\b\b\b\b\b\b\b\b\b\b\b\b\b\b\n",
      "Epoch 27: val_loss did not improve from 0.53795\n",
      "20/20 [==============================] - 68s 3s/step - loss: 0.4177 - accuracy: 0.8768 - val_loss: 0.5602 - val_accuracy: 0.7885\n",
      "Epoch 28/50\n",
      "20/20 [==============================] - ETA: 0s - loss: 0.3862 - accuracy: 0.8784\b\b\b\b\b\b\b\b\b\b\b\b\b\b\b\b\b\b\b\b\b\b\b\b\b\b\b\b\b\b\b\b\b\b\b\b\b\b\b\b\b\b\b\b\b\b\b\b\b\b\b\b\b\b\b\b\b\b\b\b\b\b\b\b\b\b\b\b\b\b\b\b\b\b\b\b\b\b\b\b\b\b\b\b\b\b\n",
      "Epoch 28: val_loss did not improve from 0.53795\n",
      "20/20 [==============================] - 69s 3s/step - loss: 0.3862 - accuracy: 0.8784 - val_loss: 0.5470 - val_accuracy: 0.7885\n",
      "Epoch 29/50\n",
      "20/20 [==============================] - ETA: 0s - loss: 0.4089 - accuracy: 0.8752\b\b\b\b\b\b\b\b\b\b\b\b\b\b\b\b\b\b\b\b\b\b\b\b\b\b\b\b\b\b\b\b\b\b\b\b\b\b\b\b\b\b\b\b\b\b\b\b\b\b\b\b\b\b\b\b\b\b\b\b\b\b\b\b\b\b\b\b\b\b\b\b\b\b\b\b\b\b\b\b\b\b\b\b\b\b\n",
      "Epoch 29: val_loss improved from 0.53795 to 0.53549, saving model to ./model4_best_weights.h5\n",
      "20/20 [==============================] - 74s 4s/step - loss: 0.4089 - accuracy: 0.8752 - val_loss: 0.5355 - val_accuracy: 0.7981\n",
      "Epoch 30/50\n",
      "20/20 [==============================] - ETA: 0s - loss: 0.3923 - accuracy: 0.8768\b\b\b\b\b\b\b\b\b\b\b\b\b\b\b\b\b\b\b\b\b\b\b\b\b\b\b\b\b\b\b\b\b\b\b\b\b\b\b\b\b\b\b\b\b\b\b\b\b\b\b\b\b\b\b\b\b\b\b\b\b\b\b\b\b\b\b\b\b\b\b\b\b\b\b\b\b\b\b\b\b\b\b\b\b\b\n",
      "Epoch 30: val_loss did not improve from 0.53549\n",
      "20/20 [==============================] - 71s 3s/step - loss: 0.3923 - accuracy: 0.8768 - val_loss: 0.5619 - val_accuracy: 0.7837\n",
      "Epoch 31/50\n",
      "20/20 [==============================] - ETA: 0s - loss: 0.3761 - accuracy: 0.8816\b\b\b\b\b\b\b\b\b\b\b\b\b\b\b\b\b\b\b\b\b\b\b\b\b\b\b\b\b\b\b\b\b\b\b\b\b\b\b\b\b\b\b\b\b\b\b\b\b\b\b\b\b\b\b\b\b\b\b\b\b\b\b\b\b\b\b\b\b\b\b\b\b\b\b\b\b\b\b\b\b\b\b\b\b\b\n",
      "Epoch 31: val_loss improved from 0.53549 to 0.52696, saving model to ./model4_best_weights.h5\n",
      "20/20 [==============================] - 70s 3s/step - loss: 0.3761 - accuracy: 0.8816 - val_loss: 0.5270 - val_accuracy: 0.8029\n",
      "Epoch 32/50\n",
      "20/20 [==============================] - ETA: 0s - loss: 0.4083 - accuracy: 0.8704\b\b\b\b\b\b\b\b\b\b\b\b\b\b\b\b\b\b\b\b\b\b\b\b\b\b\b\b\b\b\b\b\b\b\b\b\b\b\b\b\b\b\b\b\b\b\b\b\b\b\b\b\b\b\b\b\b\b\b\b\b\b\b\b\b\b\b\b\b\b\b\b\b\b\b\b\b\b\b\b\b\b\b\b\b\b\n",
      "Epoch 32: val_loss did not improve from 0.52696\n",
      "20/20 [==============================] - 70s 3s/step - loss: 0.4083 - accuracy: 0.8704 - val_loss: 0.5320 - val_accuracy: 0.8077\n",
      "Epoch 33/50\n",
      "20/20 [==============================] - ETA: 0s - loss: 0.3509 - accuracy: 0.8960\b\b\b\b\b\b\b\b\b\b\b\b\b\b\b\b\b\b\b\b\b\b\b\b\b\b\b\b\b\b\b\b\b\b\b\b\b\b\b\b\b\b\b\b\b\b\b\b\b\b\b\b\b\b\b\b\b\b\b\b\b\b\b\b\b\b\b\b\b\b\b\b\b\b\b\b\b\b\b\b\b\b\b\b\b\b\n",
      "Epoch 33: val_loss did not improve from 0.52696\n",
      "20/20 [==============================] - 69s 3s/step - loss: 0.3509 - accuracy: 0.8960 - val_loss: 0.5386 - val_accuracy: 0.7788\n",
      "Epoch 34/50\n",
      "20/20 [==============================] - ETA: 0s - loss: 0.3460 - accuracy: 0.9040\b\b\b\b\b\b\b\b\b\b\b\b\b\b\b\b\b\b\b\b\b\b\b\b\b\b\b\b\b\b\b\b\b\b\b\b\b\b\b\b\b\b\b\b\b\b\b\b\b\b\b\b\b\b\b\b\b\b\b\b\b\b\b\b\b\b\b\b\b\b\b\b\b\b\b\b\b\b\b\b\b\b\b\b\b\b\n",
      "Epoch 34: val_loss did not improve from 0.52696\n",
      "20/20 [==============================] - 70s 3s/step - loss: 0.3460 - accuracy: 0.9040 - val_loss: 0.5382 - val_accuracy: 0.8173\n",
      "Epoch 35/50\n",
      "20/20 [==============================] - ETA: 0s - loss: 0.3592 - accuracy: 0.8928\b\b\b\b\b\b\b\b\b\b\b\b\b\b\b\b\b\b\b\b\b\b\b\b\b\b\b\b\b\b\b\b\b\b\b\b\b\b\b\b\b\b\b\b\b\b\b\b\b\b\b\b\b\b\b\b\b\b\b\b\b\b\b\b\b\b\b\b\b\b\b\b\b\b\b\b\b\b\b\b\b\b\b\b\b\b\n",
      "Epoch 35: val_loss did not improve from 0.52696\n",
      "20/20 [==============================] - 68s 3s/step - loss: 0.3592 - accuracy: 0.8928 - val_loss: 0.5585 - val_accuracy: 0.7885\n",
      "Epoch 36/50\n",
      "20/20 [==============================] - ETA: 0s - loss: 0.3657 - accuracy: 0.8880\b\b\b\b\b\b\b\b\b\b\b\b\b\b\b\b\b\b\b\b\b\b\b\b\b\b\b\b\b\b\b\b\b\b\b\b\b\b\b\b\b\b\b\b\b\b\b\b\b\b\b\b\b\b\b\b\b\b\b\b\b\b\b\b\b\b\b\b\b\b\b\b\b\b\b\b\b\b\b\b\b\b\b\b\b\b\n",
      "Epoch 36: val_loss improved from 0.52696 to 0.51302, saving model to ./model4_best_weights.h5\n",
      "20/20 [==============================] - 69s 3s/step - loss: 0.3657 - accuracy: 0.8880 - val_loss: 0.5130 - val_accuracy: 0.8221\n",
      "Epoch 37/50\n",
      "20/20 [==============================] - ETA: 0s - loss: 0.3373 - accuracy: 0.9024\b\b\b\b\b\b\b\b\b\b\b\b\b\b\b\b\b\b\b\b\b\b\b\b\b\b\b\b\b\b\b\b\b\b\b\b\b\b\b\b\b\b\b\b\b\b\b\b\b\b\b\b\b\b\b\b\b\b\b\b\b\b\b\b\b\b\b\b\b\b\b\b\b\b\b\b\b\b\b\b\b\b\b\b\b\b\n",
      "Epoch 37: val_loss did not improve from 0.51302\n",
      "20/20 [==============================] - 68s 3s/step - loss: 0.3373 - accuracy: 0.9024 - val_loss: 0.5718 - val_accuracy: 0.7885\n",
      "Epoch 38/50\n",
      "20/20 [==============================] - ETA: 0s - loss: 0.3304 - accuracy: 0.8944\b\b\b\b\b\b\b\b\b\b\b\b\b\b\b\b\b\b\b\b\b\b\b\b\b\b\b\b\b\b\b\b\b\b\b\b\b\b\b\b\b\b\b\b\b\b\b\b\b\b\b\b\b\b\b\b\b\b\b\b\b\b\b\b\b\b\b\b\b\b\b\b\b\b\b\b\b\b\b\b\b\b\b\b\b\b\n",
      "Epoch 38: val_loss did not improve from 0.51302\n",
      "20/20 [==============================] - 68s 3s/step - loss: 0.3304 - accuracy: 0.8944 - val_loss: 0.5174 - val_accuracy: 0.8077\n",
      "Epoch 39/50\n",
      "20/20 [==============================] - ETA: 0s - loss: 0.3166 - accuracy: 0.9168\b\b\b\b\b\b\b\b\b\b\b\b\b\b\b\b\b\b\b\b\b\b\b\b\b\b\b\b\b\b\b\b\b\b\b\b\b\b\b\b\b\b\b\b\b\b\b\b\b\b\b\b\b\b\b\b\b\b\b\b\b\b\b\b\b\b\b\b\b\b\b\b\b\b\b\b\b\b\b\b\b\b\b\b\b\b\n",
      "Epoch 39: val_loss did not improve from 0.51302\n",
      "20/20 [==============================] - 69s 3s/step - loss: 0.3166 - accuracy: 0.9168 - val_loss: 0.5324 - val_accuracy: 0.7981\n",
      "Epoch 40/50\n",
      "20/20 [==============================] - ETA: 0s - loss: 0.2982 - accuracy: 0.9168\b\b\b\b\b\b\b\b\b\b\b\b\b\b\b\b\b\b\b\b\b\b\b\b\b\b\b\b\b\b\b\b\b\b\b\b\b\b\b\b\b\b\b\b\b\b\b\b\b\b\b\b\b\b\b\b\b\b\b\b\b\b\b\b\b\b\b\b\b\b\b\b\b\b\b\b\b\b\b\b\b\b\b\b\b\b\n",
      "Epoch 40: val_loss did not improve from 0.51302\n",
      "20/20 [==============================] - 68s 3s/step - loss: 0.2982 - accuracy: 0.9168 - val_loss: 0.5520 - val_accuracy: 0.7885\n",
      "Epoch 41/50\n",
      "20/20 [==============================] - ETA: 0s - loss: 0.3170 - accuracy: 0.9072\b\b\b\b\b\b\b\b\b\b\b\b\b\b\b\b\b\b\b\b\b\b\b\b\b\b\b\b\b\b\b\b\b\b\b\b\b\b\b\b\b\b\b\b\b\b\b\b\b\b\b\b\b\b\b\b\b\b\b\b\b\b\b\b\b\b\b\b\b\b\b\b\b\b\b\b\b\b\b\b\b\b\b\b\b\b\n",
      "Epoch 41: val_loss did not improve from 0.51302\n",
      "20/20 [==============================] - 69s 3s/step - loss: 0.3170 - accuracy: 0.9072 - val_loss: 0.5389 - val_accuracy: 0.7837\n",
      "Epoch 41: early stopping\n",
      "CPU times: user 2h 37min 22s, sys: 6min 25s, total: 2h 43min 48s\n",
      "Wall time: 48min 38s\n"
     ]
    }
   ],
   "source": [
    "%%time\n",
    "with tf.device('/gpu:0'): \n",
    "    history4 = model4.fit(dataset_train,\n",
    "                    validation_data=dataset_val,\n",
    "                    batch_size=batch_size, epochs=50, callbacks=callbacks_list, verbose=1)\n"
   ]
  },
  {
   "cell_type": "code",
   "execution_count": 66,
   "metadata": {
    "gather": {
     "logged": 1679481069838
    },
    "scrolled": true
   },
   "outputs": [
    {
     "name": "stdout",
     "output_type": "stream",
     "text": [
      "20/20 [==============================] - 49s 2s/step - loss: 0.1874 - accuracy: 0.9392\b\b\b\b\b\b\b\b\b\b\b\b\b\b\b\b\b\b\b\b\b\b\b\b\b\b\b\b\b\b\b\b\b\b\b\b\b\b\b\b\b\b\b\b\b\b\b\b\b\b\b\b\b\b\b\b\b\b\b\b\b\b\b\b\b\b\b\b\b\b\b\b\b\b\b\b\b\b\b\b\b\b\n",
      "Training Accuracy   : 0.9392\n",
      "\n",
      "7/7 [==============================] - 18s 2s/step - loss: 0.5389 - accuracy: 0.7837\b\b\b\b\b\b\b\b\b\b\b\b\b\b\b\b\b\b\b\b\b\b\b\b\b\b\b\b\b\b\b\b\b\b\b\b\b\b\b\b\b\b\b\b\b\b\b\b\b\b\b\b\b\b\b\b\b\b\b\b\b\b\b\b\b\b\b\b\b\b\b\b\b\b\b\b\b\b\n",
      "Validation Accuracy :  0.7837\n"
     ]
    }
   ],
   "source": [
    "# Score du dernier epoch\n",
    "\n",
    "loss, accuracy = model4.evaluate(dataset_train, verbose=True)\n",
    "print(\"Training Accuracy   : {:.4f}\".format(accuracy))\n",
    "print()\n",
    "loss, accuracy = model4.evaluate(dataset_val, verbose=True)\n",
    "print(\"Validation Accuracy :  {:.4f}\".format(accuracy))"
   ]
  },
  {
   "cell_type": "code",
   "execution_count": 67,
   "metadata": {
    "gather": {
     "logged": 1679481108441
    }
   },
   "outputs": [
    {
     "name": "stdout",
     "output_type": "stream",
     "text": [
      "Validation Accuracy :  0.8221\n",
      "Test Accuracy       :  0.8233\n"
     ]
    }
   ],
   "source": [
    "# Score de l'epoch optimal\n",
    "\n",
    "model4.load_weights(model4_save_path)\n",
    "\n",
    "loss, accuracy = model4.evaluate(dataset_val, verbose=False)\n",
    "print(\"Validation Accuracy :  {:.4f}\".format(accuracy))\n",
    "\n",
    "loss, accuracy = model4.evaluate(dataset_test, verbose=False)\n",
    "print(\"Test Accuracy       :  {:.4f}\".format(accuracy))\n"
   ]
  },
  {
   "cell_type": "code",
   "execution_count": 68,
   "metadata": {
    "gather": {
     "logged": 1679481109405
    }
   },
   "outputs": [
    {
     "data": {
      "image/png": "[encoded data removed]",
      "text/plain": [
       "<Figure size 1000x500 with 2 Axes>"
      ]
     },
     "metadata": {},
     "output_type": "display_data"
    }
   ],
   "source": [
    "from plot_keras_history import show_history, plot_history\n",
    "import matplotlib.pyplot as plt\n",
    "\n",
    "show_history(history4)\n",
    "plot_history(history4, path=\"standard.png\")\n",
    "plt.close()"
   ]
  },
  {
   "cell_type": "code",
   "execution_count": 74,
   "metadata": {
    "gather": {
     "logged": 1679481837470
    },
    "jupyter": {
     "outputs_hidden": false,
     "source_hidden": false
    },
    "nteract": {
     "transient": {
      "deleting": false
     }
    }
   },
   "outputs": [
    {
     "name": "stdout",
     "output_type": "stream",
     "text": [
      "7/7 [==============================] - 18s 2s/step\b\b\b\b\b\b\b\b\b\b\b\b\b\b\b\b\b\b\b\b\b\b\b\b\b\b\b\b\b\b\b\b\b\b\b\b\b\b\b\b\b\b\b\b\n",
      "[6 6 6 6 4 3 5 2 5 1 2 1 5 5 5 4 0 0 0 3 3 1 1 0 5 0 0 1 1 5 5 5 5 5 5 5 5\n",
      " 5 5 5 5 5 5 5 3 5 3 3 5 3 3 3 3 5 3 5 5 3 5 3 5 3 5 3 3 5 3 0 0 0 3 3 1 1\n",
      " 2 2 2 2 2 1 2 1 1 1 2 1 2 1 1 1 1 2 1 1 1 1 1 2 2 0 0 4 5 5 0 1 5 1 1 2 2\n",
      " 2 2 6 6 6 6 6 6 6 6 6 6 6 6 6 6 6 6 6 6 6 6 6 6 0 1 1 4 3 0 1 0 0 2 0 0 4\n",
      " 0 4 0 0 0 0 3 4 1 1 4 4 4 0 0 4 0 1 2 1 6 6 6 6 1 6 0 6 6 1 1 1 4 1 2 2 2\n",
      " 2 2 2 2 2 2 4 4 3 6 4 3 4 4 4 1 4 3 4 4 3 0 0 5 5 1 3 2 4 0]\n",
      "\n",
      "[6 6 6 6 3 1 5 2 5 5 2 1 5 1 3 4 4 0 4 3 3 4 4 0 5 0 0 2 3 5 5 5 5 5 5 5 5\n",
      " 5 5 5 3 5 5 5 3 6 5 3 5 6 3 3 3 5 3 5 5 3 5 3 5 6 5 3 3 5 3 4 0 0 2 3 1 1\n",
      " 2 2 2 2 2 1 2 1 1 1 2 3 2 1 1 1 1 1 1 1 1 1 3 2 2 0 0 4 5 5 0 3 5 1 1 2 2\n",
      " 2 2 6 6 0 6 6 6 6 6 6 6 6 6 6 6 6 6 6 6 6 6 6 6 0 4 2 3 3 0 3 0 0 1 0 4 4\n",
      " 3 4 0 3 0 0 3 4 1 2 4 4 4 0 2 4 0 0 1 1 6 1 6 6 1 6 0 6 6 1 1 1 4 1 2 2 2\n",
      " 2 2 2 2 2 2 4 4 3 2 4 3 4 4 0 1 4 2 0 4 3 4 0 5 5 1 2 2 4 3]\n"
     ]
    }
   ],
   "source": [
    "y_test_num = np.argmax(y_test, axis=1)\n",
    "y_test_pred = np.argmax(model4.predict(X_test), axis=1)\n",
    "y_test_num = np.argmax(y_test, axis=1)\n",
    "print(y_test_num)\n",
    "print()\n",
    "print(y_test_pred)"
   ]
  },
  {
   "cell_type": "code",
   "execution_count": 77,
   "metadata": {
    "gather": {
     "logged": 1679481903465
    },
    "jupyter": {
     "outputs_hidden": false,
     "source_hidden": false
    },
    "nteract": {
     "transient": {
      "deleting": false
     }
    }
   },
   "outputs": [
    {
     "name": "stdout",
     "output_type": "stream",
     "text": [
      "[[21  0  1  3  5  0  0]\n",
      " [ 1 26  3  5  3  1  0]\n",
      " [ 0  3 26  0  0  0  0]\n",
      " [ 0  1  3 19  0  1  2]\n",
      " [ 2  0  0  2 18  0  0]\n",
      " [ 0  1  0  2  0 31  1]\n",
      " [ 1  1  1  0  0  0 31]]\n",
      "Correspondance des clusters :  [0 1 2 3 4 5 6]\n"
     ]
    }
   ],
   "source": [
    "conf_mat = metrics.confusion_matrix(y_test_num, y_test_pred)\n",
    "print(conf_mat)\n",
    "y_test_pred_transform = conf_mat_transform(y_test_num, y_test_pred)\n",
    "\n"
   ]
  },
  {
   "cell_type": "code",
   "execution_count": 78,
   "metadata": {
    "gather": {
     "logged": 1679481906134
    },
    "jupyter": {
     "outputs_hidden": false,
     "source_hidden": false
    },
    "nteract": {
     "transient": {
      "deleting": false
     }
    }
   },
   "outputs": [
    {
     "name": "stdout",
     "output_type": "stream",
     "text": [
      "[[21  0  1  3  5  0  0]\n",
      " [ 1 26  3  5  3  1  0]\n",
      " [ 0  3 26  0  0  0  0]\n",
      " [ 0  1  3 19  0  1  2]\n",
      " [ 2  0  0  2 18  0  0]\n",
      " [ 0  1  0  2  0 31  1]\n",
      " [ 1  1  1  0  0  0 31]]\n",
      "\n",
      "              precision    recall  f1-score   support\n",
      "\n",
      "           0       0.84      0.70      0.76        30\n",
      "           1       0.81      0.67      0.73        39\n",
      "           2       0.76      0.90      0.83        29\n",
      "           3       0.61      0.73      0.67        26\n",
      "           4       0.69      0.82      0.75        22\n",
      "           5       0.94      0.89      0.91        35\n",
      "           6       0.91      0.91      0.91        34\n",
      "\n",
      "    accuracy                           0.80       215\n",
      "   macro avg       0.80      0.80      0.79       215\n",
      "weighted avg       0.81      0.80      0.80       215\n",
      "\n"
     ]
    }
   ],
   "source": [
    "conf_mat = metrics.confusion_matrix(y_test_num, y_test_pred_transform)\n",
    "print(conf_mat)\n",
    "print()\n",
    "print(metrics.classification_report(y_test_num, y_test_pred_transform))\n",
    "\n"
   ]
  },
  {
   "cell_type": "code",
   "execution_count": 79,
   "metadata": {
    "gather": {
     "logged": 1679483538173
    },
    "jupyter": {
     "outputs_hidden": false,
     "source_hidden": false
    },
    "nteract": {
     "transient": {
      "deleting": false
     }
    }
   },
   "outputs": [
    {
     "data": {
      "text/plain": [
       "<Axes: >"
      ]
     },
     "execution_count": 79,
     "metadata": {},
     "output_type": "execute_result"
    },
    {
     "data": {
      "image/png": "[encoded data removed]",
      "text/plain": [
       "<Figure size 600x400 with 2 Axes>"
      ]
     },
     "metadata": {},
     "output_type": "display_data"
    }
   ],
   "source": [
    "df_cm = pd.DataFrame(conf_mat, index = [label for label in list_labels],\n",
    "                  columns = [i for i in \"0123456\"])\n",
    "plt.figure(figsize = (6,4))\n",
    "sns.heatmap(df_cm, annot=True, cmap=\"Blues\")"
   ]
  }
 ],
 "metadata": {
  "hide_input": false,
  "kernel_info": {
   "name": "python3"
  },
  "kernelspec": {
   "display_name": "Python 3 (ipykernel)",
   "language": "python",
   "name": "python3"
  },
  "language_info": {
   "codemirror_mode": {
    "name": "ipython",
    "version": 3
   },
   "file_extension": ".py",
   "mimetype": "text/x-python",
   "name": "python",
   "nbconvert_exporter": "python",
   "pygments_lexer": "ipython3",
   "version": "3.9.13"
  },
  "microsoft": {
   "host": {
    "AzureML": {
     "notebookHasBeenCompleted": true
    }
   },
   "ms_spell_check": {
    "ms_spell_check_language": "en"
   }
  },
  "nteract": {
   "version": "nteract-front-end@1.0.0"
  },
  "toc": {
   "base_numbering": 1,
   "nav_menu": {},
   "number_sections": true,
   "sideBar": true,
   "skip_h1_title": false,
   "title_cell": "Table of Contents",
   "title_sidebar": "Contents",
   "toc_cell": false,
   "toc_position": {
    "height": "calc(100% - 180px)",
    "left": "10px",
    "top": "150px",
    "width": "256px"
   },
   "toc_section_display": true,
   "toc_window_display": true
  },
  "varInspector": {
   "cols": {
    "lenName": 16,
    "lenType": 16,
    "lenVar": 40
   },
   "kernels_config": {
    "python": {
     "delete_cmd_postfix": "",
     "delete_cmd_prefix": "del ",
     "library": "var_list.py",
     "varRefreshCmd": "print(var_dic_list())"
    },
    "r": {
     "delete_cmd_postfix": ") ",
     "delete_cmd_prefix": "rm(",
     "library": "var_list.r",
     "varRefreshCmd": "cat(var_dic_list()) "
    }
   },
   "types_to_exclude": [
    "module",
    "function",
    "builtin_function_or_method",
    "instance",
    "_Feature"
   ],
   "window_display": false
  }
 },
 "nbformat": 4,
 "nbformat_minor": 4
}
