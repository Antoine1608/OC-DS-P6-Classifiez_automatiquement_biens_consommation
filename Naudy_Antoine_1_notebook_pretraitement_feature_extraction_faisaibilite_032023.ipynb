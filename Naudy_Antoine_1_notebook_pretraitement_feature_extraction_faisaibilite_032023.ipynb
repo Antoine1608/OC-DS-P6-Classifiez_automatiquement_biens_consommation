{
 "cells": [
  {
   "cell_type": "markdown",
   "id": "25a378d8",
   "metadata": {},
   "source": [
    "# Sommaire :\n",
    "\n",
    "<a href=\"#A1\">**Part 1 : Preliminary**</a>\n",
    "\n",
    "<a href=\"#A2\">**Part 2 : Cleaning and data exploration**</a>"
   ]
  },
  {
   "cell_type": "markdown",
   "id": "36a1226b",
   "metadata": {},
   "source": [
    "## <a name=\"A1\">**Part 1 : Preliminary**</a>"
   ]
  },
  {
   "cell_type": "code",
   "execution_count": 1,
   "id": "e3db8c0e",
   "metadata": {
    "gather": {
     "logged": 1677486927209
    }
   },
   "outputs": [
    {
     "name": "stderr",
     "output_type": "stream",
     "text": [
      "[nltk_data] Downloading package averaged_perceptron_tagger to\n",
      "[nltk_data]     C:\\Users\\John\\AppData\\Roaming\\nltk_data...\n",
      "[nltk_data]   Package averaged_perceptron_tagger is already up-to-\n",
      "[nltk_data]       date!\n"
     ]
    }
   ],
   "source": [
    "#Général\n",
    "import numpy as np\n",
    "import pandas as pd\n",
    "import os\n",
    "import datetime\n",
    "import time\n",
    "\n",
    "#Traitement du texte\n",
    "import nltk\n",
    "nltk.download('averaged_perceptron_tagger')\n",
    "import re\n",
    "from sklearn.preprocessing import LabelEncoder\n",
    "\n",
    "#Feature extraction\n",
    "#Bag  of word\n",
    "from sklearn.feature_extraction.text import CountVectorizer, TfidfVectorizer\n",
    "\n",
    "#Word embedding\n",
    "import tensorflow as TF\n",
    "import tensorflow.keras\n",
    "from tensorflow.keras import backend as K\n",
    "from tensorflow.keras.preprocessing.text import Tokenizer\n",
    "from tensorflow.keras.preprocessing.sequence import pad_sequences\n",
    "from tensorflow.keras import metrics as kmetrics\n",
    "from tensorflow.keras.layers import *\n",
    "from tensorflow.keras.models import Model\n",
    "import gensim\n",
    "\n",
    "# BERT\n",
    "import transformers\n",
    "from sentence_transformers import SentenceTransformer\n",
    "\n",
    "#Classification\n",
    "from sklearn.feature_selection import SelectFromModel\n",
    "from sklearn.neighbors import KNeighborsRegressor\n",
    "from sklearn.linear_model import LogisticRegression\n",
    "from nltk.classify import NaiveBayesClassifier\n",
    "from sklearn.svm import SVC\n",
    "from sklearn.ensemble import RandomForestClassifier\n",
    "from sklearn.naive_bayes import MultinomialNB, ComplementNB\n",
    "\n",
    "# Metrics\n",
    "from sklearn.metrics import mean_absolute_error, mean_squared_error, r2_score, confusion_matrix\n",
    "from sklearn.metrics import adjusted_rand_score\n",
    "from nltk.classify import accuracy\n",
    "from sklearn.metrics import f1_score, roc_auc_score, accuracy_score, auc\n",
    "\n",
    "#model selection\n",
    "from sklearn.model_selection import GridSearchCV, train_test_split\n",
    "\n",
    "#Visualisation\n",
    "import seaborn as sns\n",
    "from matplotlib import pyplot as plt\n",
    "from matplotlib import pyplot as plt\n",
    "import plotly.graph_objs as go\n",
    "\n",
    "#Encoding\n",
    "from sklearn.preprocessing import OneHotEncoder\n",
    "from sklearn.compose import make_column_transformer\n",
    "\n",
    "# Import des librairies\n",
    "import numpy as np\n",
    "import pandas as pd\n",
    "import matplotlib.pyplot as plt\n",
    "import seaborn as sns\n",
    "import nltk\n",
    "import pickle\n",
    "import time\n",
    "from sklearn import cluster, metrics\n",
    "from sklearn import manifold, decomposition\n",
    "import logging\n",
    "\n",
    "logging.disable(logging.WARNING) # disable WARNING, INFO and DEBUG logging everywhere\n"
   ]
  },
  {
   "cell_type": "code",
   "execution_count": 2,
   "id": "6044d5cb",
   "metadata": {
    "gather": {
     "logged": 1677497771946
    }
   },
   "outputs": [],
   "source": [
    "# Descriptions produits\n",
    "df = pd.read_csv(r\"flipkart_com-ecommerce_sample_1050.csv\")\n",
    "#rw_mount('https://formation8255568772.blob.core.windows.net/azureml-blobstore-d91abf03-c366-4a10-aee4-ab1872147e47')"
   ]
  },
  {
   "cell_type": "code",
   "execution_count": 3,
   "id": "1eba5398",
   "metadata": {
    "gather": {
     "logged": 1677486928606
    }
   },
   "outputs": [],
   "source": [
    "# Images\n",
    "im = r\"C:\\Users\\John\\Desktop\\Formation\\6-Classifiez automatiquement des biens de consommation\\1-Projet_6\\Images\""
   ]
  },
  {
   "cell_type": "code",
   "execution_count": 4,
   "id": "fba2d8e1",
   "metadata": {
    "gather": {
     "logged": 1677486929226
    }
   },
   "outputs": [
    {
     "data": {
      "text/html": [
       "<div>\n",
       "<style scoped>\n",
       "    .dataframe tbody tr th:only-of-type {\n",
       "        vertical-align: middle;\n",
       "    }\n",
       "\n",
       "    .dataframe tbody tr th {\n",
       "        vertical-align: top;\n",
       "    }\n",
       "\n",
       "    .dataframe thead th {\n",
       "        text-align: right;\n",
       "    }\n",
       "</style>\n",
       "<table border=\"1\" class=\"dataframe\">\n",
       "  <thead>\n",
       "    <tr style=\"text-align: right;\">\n",
       "      <th></th>\n",
       "      <th>uniq_id</th>\n",
       "      <th>crawl_timestamp</th>\n",
       "      <th>product_url</th>\n",
       "      <th>product_name</th>\n",
       "      <th>product_category_tree</th>\n",
       "      <th>pid</th>\n",
       "      <th>retail_price</th>\n",
       "      <th>discounted_price</th>\n",
       "      <th>image</th>\n",
       "      <th>is_FK_Advantage_product</th>\n",
       "      <th>description</th>\n",
       "      <th>product_rating</th>\n",
       "      <th>overall_rating</th>\n",
       "      <th>brand</th>\n",
       "      <th>product_specifications</th>\n",
       "    </tr>\n",
       "  </thead>\n",
       "  <tbody>\n",
       "    <tr>\n",
       "      <th>538</th>\n",
       "      <td>3864ab10ef7006452fef45513de8f868</td>\n",
       "      <td>2016-01-07 05:50:25 +0000</td>\n",
       "      <td>http://www.flipkart.com/sonata-7092sl01-yuva-a...</td>\n",
       "      <td>Sonata 7092SL01 Yuva Analog Watch  - For Men</td>\n",
       "      <td>[\"Watches &gt;&gt; Wrist Watches &gt;&gt; Sonata Wrist Wat...</td>\n",
       "      <td>WATDA5ZABPHZZV3Q</td>\n",
       "      <td>999.0</td>\n",
       "      <td>999.0</td>\n",
       "      <td>3864ab10ef7006452fef45513de8f868.jpg</td>\n",
       "      <td>True</td>\n",
       "      <td>Sonata 7092SL01 Yuva Analog Watch  - For Men -...</td>\n",
       "      <td>4.3</td>\n",
       "      <td>4.3</td>\n",
       "      <td>NaN</td>\n",
       "      <td>{\"product_specification\"=&gt;[{\"key\"=&gt;\"Type\", \"va...</td>\n",
       "    </tr>\n",
       "    <tr>\n",
       "      <th>764</th>\n",
       "      <td>e24ef34ede03630207f0d367f633d8ea</td>\n",
       "      <td>2015-12-12 11:46:53 +0000</td>\n",
       "      <td>http://www.flipkart.com/chappin-nellson-cnl-50...</td>\n",
       "      <td>Chappin &amp; Nellson CNL-50-White-RG Analog Watch...</td>\n",
       "      <td>[\"Watches &gt;&gt; Wrist Watches &gt;&gt; Chappin &amp; Nellso...</td>\n",
       "      <td>WATDW8E5PGWQUFWY</td>\n",
       "      <td>1999.0</td>\n",
       "      <td>799.0</td>\n",
       "      <td>e24ef34ede03630207f0d367f633d8ea.jpg</td>\n",
       "      <td>False</td>\n",
       "      <td>Chappin &amp; Nellson CNL-50-White-RG Analog Watch...</td>\n",
       "      <td>3.7</td>\n",
       "      <td>3.7</td>\n",
       "      <td>NaN</td>\n",
       "      <td>{\"product_specification\"=&gt;[{\"key\"=&gt;\"Type\", \"va...</td>\n",
       "    </tr>\n",
       "    <tr>\n",
       "      <th>437</th>\n",
       "      <td>b6c339777814451815fe7950fd4c8536</td>\n",
       "      <td>2016-06-16 08:51:06 +0000</td>\n",
       "      <td>http://www.flipkart.com/homeedge-solid-wood-ki...</td>\n",
       "      <td>HomeEdge Solid Wood King Bed</td>\n",
       "      <td>[\"Beauty and Personal Care &gt;&gt; Health Care &gt;&gt; H...</td>\n",
       "      <td>BDDEH93ZEEZY7CHM</td>\n",
       "      <td>25499.0</td>\n",
       "      <td>18799.0</td>\n",
       "      <td>b6c339777814451815fe7950fd4c8536.jpg</td>\n",
       "      <td>False</td>\n",
       "      <td>Key Features of HomeEdge Solid Wood King Bed K...</td>\n",
       "      <td>No rating available</td>\n",
       "      <td>No rating available</td>\n",
       "      <td>HomeEdge</td>\n",
       "      <td>{\"product_specification\"=&gt;[{\"key\"=&gt;\"Installati...</td>\n",
       "    </tr>\n",
       "    <tr>\n",
       "      <th>240</th>\n",
       "      <td>7e4c1d31e279a700c6b8e66d820e8601</td>\n",
       "      <td>2015-12-01 12:40:44 +0000</td>\n",
       "      <td>http://www.flipkart.com/kosher-kadhai-5-l/p/it...</td>\n",
       "      <td>Kosher Kadhai 5 L</td>\n",
       "      <td>[\"Kitchen &amp; Dining &gt;&gt; Cookware &gt;&gt; Pots &amp; Pans ...</td>\n",
       "      <td>PTPEANCHNPTDUUQK</td>\n",
       "      <td>592.0</td>\n",
       "      <td>592.0</td>\n",
       "      <td>7e4c1d31e279a700c6b8e66d820e8601.jpg</td>\n",
       "      <td>False</td>\n",
       "      <td>Buy Kosher Kadhai 5 L for Rs.592 online. Koshe...</td>\n",
       "      <td>No rating available</td>\n",
       "      <td>No rating available</td>\n",
       "      <td>Kosher</td>\n",
       "      <td>{\"product_specification\"=&gt;[{\"key\"=&gt;\"Brand\", \"v...</td>\n",
       "    </tr>\n",
       "    <tr>\n",
       "      <th>459</th>\n",
       "      <td>4e09d5a71d46d61de3d4c9c5aedb73f2</td>\n",
       "      <td>2016-03-11 11:26:55 +0000</td>\n",
       "      <td>http://www.flipkart.com/tigi-bed-head-colour-g...</td>\n",
       "      <td>TIGI BED HEAD COLOUR GODDESS OIL INFUSED CONDI...</td>\n",
       "      <td>[\"Beauty and Personal Care &gt;&gt; Hair Care &gt;&gt; Con...</td>\n",
       "      <td>CNDEGEPEK5GEH58K</td>\n",
       "      <td>2749.0</td>\n",
       "      <td>2299.0</td>\n",
       "      <td>4e09d5a71d46d61de3d4c9c5aedb73f2.jpg</td>\n",
       "      <td>False</td>\n",
       "      <td>Key Features of TIGI BED HEAD COLOUR GODDESS O...</td>\n",
       "      <td>No rating available</td>\n",
       "      <td>No rating available</td>\n",
       "      <td>TIGI BED HEAD</td>\n",
       "      <td>{\"product_specification\"=&gt;[{\"key\"=&gt;\"Hair Condi...</td>\n",
       "    </tr>\n",
       "  </tbody>\n",
       "</table>\n",
       "</div>"
      ],
      "text/plain": [
       "                              uniq_id            crawl_timestamp  \\\n",
       "538  3864ab10ef7006452fef45513de8f868  2016-01-07 05:50:25 +0000   \n",
       "764  e24ef34ede03630207f0d367f633d8ea  2015-12-12 11:46:53 +0000   \n",
       "437  b6c339777814451815fe7950fd4c8536  2016-06-16 08:51:06 +0000   \n",
       "240  7e4c1d31e279a700c6b8e66d820e8601  2015-12-01 12:40:44 +0000   \n",
       "459  4e09d5a71d46d61de3d4c9c5aedb73f2  2016-03-11 11:26:55 +0000   \n",
       "\n",
       "                                           product_url  \\\n",
       "538  http://www.flipkart.com/sonata-7092sl01-yuva-a...   \n",
       "764  http://www.flipkart.com/chappin-nellson-cnl-50...   \n",
       "437  http://www.flipkart.com/homeedge-solid-wood-ki...   \n",
       "240  http://www.flipkart.com/kosher-kadhai-5-l/p/it...   \n",
       "459  http://www.flipkart.com/tigi-bed-head-colour-g...   \n",
       "\n",
       "                                          product_name  \\\n",
       "538       Sonata 7092SL01 Yuva Analog Watch  - For Men   \n",
       "764  Chappin & Nellson CNL-50-White-RG Analog Watch...   \n",
       "437                       HomeEdge Solid Wood King Bed   \n",
       "240                                  Kosher Kadhai 5 L   \n",
       "459  TIGI BED HEAD COLOUR GODDESS OIL INFUSED CONDI...   \n",
       "\n",
       "                                 product_category_tree               pid  \\\n",
       "538  [\"Watches >> Wrist Watches >> Sonata Wrist Wat...  WATDA5ZABPHZZV3Q   \n",
       "764  [\"Watches >> Wrist Watches >> Chappin & Nellso...  WATDW8E5PGWQUFWY   \n",
       "437  [\"Beauty and Personal Care >> Health Care >> H...  BDDEH93ZEEZY7CHM   \n",
       "240  [\"Kitchen & Dining >> Cookware >> Pots & Pans ...  PTPEANCHNPTDUUQK   \n",
       "459  [\"Beauty and Personal Care >> Hair Care >> Con...  CNDEGEPEK5GEH58K   \n",
       "\n",
       "     retail_price  discounted_price                                 image  \\\n",
       "538         999.0             999.0  3864ab10ef7006452fef45513de8f868.jpg   \n",
       "764        1999.0             799.0  e24ef34ede03630207f0d367f633d8ea.jpg   \n",
       "437       25499.0           18799.0  b6c339777814451815fe7950fd4c8536.jpg   \n",
       "240         592.0             592.0  7e4c1d31e279a700c6b8e66d820e8601.jpg   \n",
       "459        2749.0            2299.0  4e09d5a71d46d61de3d4c9c5aedb73f2.jpg   \n",
       "\n",
       "     is_FK_Advantage_product  \\\n",
       "538                     True   \n",
       "764                    False   \n",
       "437                    False   \n",
       "240                    False   \n",
       "459                    False   \n",
       "\n",
       "                                           description       product_rating  \\\n",
       "538  Sonata 7092SL01 Yuva Analog Watch  - For Men -...                  4.3   \n",
       "764  Chappin & Nellson CNL-50-White-RG Analog Watch...                  3.7   \n",
       "437  Key Features of HomeEdge Solid Wood King Bed K...  No rating available   \n",
       "240  Buy Kosher Kadhai 5 L for Rs.592 online. Koshe...  No rating available   \n",
       "459  Key Features of TIGI BED HEAD COLOUR GODDESS O...  No rating available   \n",
       "\n",
       "          overall_rating          brand  \\\n",
       "538                  4.3            NaN   \n",
       "764                  3.7            NaN   \n",
       "437  No rating available       HomeEdge   \n",
       "240  No rating available         Kosher   \n",
       "459  No rating available  TIGI BED HEAD   \n",
       "\n",
       "                                product_specifications  \n",
       "538  {\"product_specification\"=>[{\"key\"=>\"Type\", \"va...  \n",
       "764  {\"product_specification\"=>[{\"key\"=>\"Type\", \"va...  \n",
       "437  {\"product_specification\"=>[{\"key\"=>\"Installati...  \n",
       "240  {\"product_specification\"=>[{\"key\"=>\"Brand\", \"v...  \n",
       "459  {\"product_specification\"=>[{\"key\"=>\"Hair Condi...  "
      ]
     },
     "execution_count": 4,
     "metadata": {},
     "output_type": "execute_result"
    }
   ],
   "source": [
    "df.sample(5)"
   ]
  },
  {
   "cell_type": "code",
   "execution_count": 5,
   "id": "cdd1aae0",
   "metadata": {
    "gather": {
     "logged": 1677486929705
    }
   },
   "outputs": [
    {
     "name": "stdout",
     "output_type": "stream",
     "text": [
      "<class 'pandas.core.frame.DataFrame'>\n",
      "RangeIndex: 1050 entries, 0 to 1049\n",
      "Data columns (total 15 columns):\n",
      " #   Column                   Non-Null Count  Dtype  \n",
      "---  ------                   --------------  -----  \n",
      " 0   uniq_id                  1050 non-null   object \n",
      " 1   crawl_timestamp          1050 non-null   object \n",
      " 2   product_url              1050 non-null   object \n",
      " 3   product_name             1050 non-null   object \n",
      " 4   product_category_tree    1050 non-null   object \n",
      " 5   pid                      1050 non-null   object \n",
      " 6   retail_price             1049 non-null   float64\n",
      " 7   discounted_price         1049 non-null   float64\n",
      " 8   image                    1050 non-null   object \n",
      " 9   is_FK_Advantage_product  1050 non-null   bool   \n",
      " 10  description              1050 non-null   object \n",
      " 11  product_rating           1050 non-null   object \n",
      " 12  overall_rating           1050 non-null   object \n",
      " 13  brand                    712 non-null    object \n",
      " 14  product_specifications   1049 non-null   object \n",
      "dtypes: bool(1), float64(2), object(12)\n",
      "memory usage: 116.0+ KB\n"
     ]
    }
   ],
   "source": [
    "df.info()"
   ]
  },
  {
   "cell_type": "code",
   "execution_count": 6,
   "id": "5868d13b",
   "metadata": {
    "gather": {
     "logged": 1677497676103
    }
   },
   "outputs": [],
   "source": [
    "#print('nb d\\'images : ',len(os.listdir(im)))"
   ]
  },
  {
   "cell_type": "markdown",
   "id": "8e606db5",
   "metadata": {},
   "source": [
    "## <a name=\"A2\">**Part 2 : Cleaning and data exploration**</a>"
   ]
  },
  {
   "attachments": {},
   "cell_type": "markdown",
   "id": "a88be216",
   "metadata": {},
   "source": [
    "## Cleaning missing values:"
   ]
  },
  {
   "cell_type": "code",
   "execution_count": 7,
   "id": "64ac46be",
   "metadata": {
    "gather": {
     "logged": 1677487262831
    },
    "scrolled": false
   },
   "outputs": [
    {
     "name": "stdout",
     "output_type": "stream",
     "text": [
      "<class 'pandas.core.frame.DataFrame'>\n",
      "RangeIndex: 1048 entries, 0 to 1047\n",
      "Data columns (total 14 columns):\n",
      " #   Column                   Non-Null Count  Dtype  \n",
      "---  ------                   --------------  -----  \n",
      " 0   uniq_id                  1048 non-null   object \n",
      " 1   crawl_timestamp          1048 non-null   object \n",
      " 2   product_url              1048 non-null   object \n",
      " 3   product_name             1048 non-null   object \n",
      " 4   product_category_tree    1048 non-null   object \n",
      " 5   pid                      1048 non-null   object \n",
      " 6   retail_price             1048 non-null   float64\n",
      " 7   discounted_price         1048 non-null   float64\n",
      " 8   image                    1048 non-null   object \n",
      " 9   is_FK_Advantage_product  1048 non-null   bool   \n",
      " 10  description              1048 non-null   object \n",
      " 11  product_rating           1048 non-null   object \n",
      " 12  overall_rating           1048 non-null   object \n",
      " 13  product_specifications   1048 non-null   object \n",
      "dtypes: bool(1), float64(2), object(11)\n",
      "memory usage: 107.6+ KB\n"
     ]
    }
   ],
   "source": [
    "df.drop(columns = 'brand', inplace = True)\n",
    "df.dropna(axis = 'rows', how = 'any', inplace = True)\n",
    "df.reset_index(inplace=True, drop=True)\n",
    "df.info()"
   ]
  },
  {
   "attachments": {},
   "cell_type": "markdown",
   "id": "c6b20376",
   "metadata": {
    "collapsed": true
   },
   "source": [
    "## Feature engineering :"
   ]
  },
  {
   "cell_type": "code",
   "execution_count": 8,
   "id": "fa32691a",
   "metadata": {
    "gather": {
     "logged": 1677487263443
    }
   },
   "outputs": [],
   "source": [
    "regexp_cat = '\\[\\\"(?P<cat_1>[\\w\\s&,\\']+)>>(?P<cat_2>[\\w\\s&,\\']+)>*(?P<cat_3>[\\w\\s&,\\']*).*'"
   ]
  },
  {
   "cell_type": "code",
   "execution_count": 9,
   "id": "69af2d5b",
   "metadata": {
    "gather": {
     "logged": 1677487264227
    }
   },
   "outputs": [],
   "source": [
    "def get_cat(text, regexp, name):\n",
    "\n",
    "    \"\"\" Test a regexp on a text, if here is a mach return the stripped specified named group.\"\"\"\n",
    "\n",
    "    match = re.match(regexp, text)\n",
    "    if match is None:\n",
    "        pass\n",
    "    else:\n",
    "        return match.group(name).strip()"
   ]
  },
  {
   "cell_type": "code",
   "execution_count": 10,
   "id": "5253a56d",
   "metadata": {
    "gather": {
     "logged": 1677487264966
    }
   },
   "outputs": [],
   "source": [
    "# on crée une colonne class\n",
    "df[\"class_\"] = df[\"product_category_tree\"].apply(lambda x: get_cat(x, regexp_cat, 'cat_1'))"
   ]
  },
  {
   "cell_type": "code",
   "execution_count": 11,
   "id": "e9183b31",
   "metadata": {
    "gather": {
     "logged": 1677487266321
    }
   },
   "outputs": [
    {
     "data": {
      "text/plain": [
       "array(['Home Furnishing', 'Baby Care', 'Watches',\n",
       "       'Home Decor & Festive Needs', 'Kitchen & Dining',\n",
       "       'Beauty and Personal Care', 'Computers'], dtype=object)"
      ]
     },
     "execution_count": 11,
     "metadata": {},
     "output_type": "execute_result"
    }
   ],
   "source": [
    "# les classes\n",
    "df['class_'].unique()"
   ]
  },
  {
   "cell_type": "code",
   "execution_count": 12,
   "id": "88fd47f9",
   "metadata": {},
   "outputs": [
    {
     "data": {
      "text/plain": [
       "150"
      ]
     },
     "execution_count": 12,
     "metadata": {},
     "output_type": "execute_result"
    }
   ],
   "source": [
    "df.loc[df['class_'] == 'Home Furnishing','class_'].count()"
   ]
  },
  {
   "cell_type": "code",
   "execution_count": 13,
   "id": "7994d0c9",
   "metadata": {},
   "outputs": [
    {
     "data": {
      "image/png": "[encoded data removed]",
      "text/plain": [
       "<Figure size 600x600 with 1 Axes>"
      ]
     },
     "metadata": {},
     "output_type": "display_data"
    }
   ],
   "source": [
    "# decoupage du dataset par classe\n",
    "import matplotlib.colors as mcolors\n",
    "def labeler(pct, allvals):\n",
    "    absolute = int(pct/100.*np.sum(allvals))\n",
    "    return \"{:.1f}%\\n({:d})\".format(pct, absolute)\n",
    "\n",
    "classes = list(df['class_'].unique())\n",
    "\n",
    "sizes = []\n",
    "for c in classes :\n",
    "    sizes.append(df.loc[df['class_'] == c,'class_'].count())\n",
    "fig0, ax1 = plt.subplots(figsize=(6,6))\n",
    "wedges, texts, autotexts = ax1.pie(sizes,\n",
    "                                   autopct=lambda pct: labeler(pct, sizes),\n",
    "                                   radius=1,\n",
    "                                   colors=mcolors.BASE_COLORS,#['#0066ff','#bb66ff','#cc66ff','#dd66ff','#ee66ff','#ff66ff','#gg66ff'],\n",
    "                                   startangle=90,\n",
    "                                   textprops=dict(color=\"w\"),\n",
    "                                   wedgeprops=dict(width=0.7, edgecolor='w'))\n",
    "\n",
    "ax1.legend(wedges, classes,\n",
    "           loc='center right',\n",
    "           bbox_to_anchor=(1.5, 0, 0.5, 1))\n",
    "\n",
    "plt.text(0,0, 'TOTAL\\n{}'.format(df['class_'].count()),\n",
    "         weight='bold', size=12, color='#52527a',\n",
    "         ha='center', va='center')\n",
    "\n",
    "plt.setp(autotexts, size=12, weight='bold')\n",
    "ax1.axis('equal')  # Equal aspect ratio\n",
    "plt.show()"
   ]
  },
  {
   "attachments": {},
   "cell_type": "markdown",
   "id": "34b63aea",
   "metadata": {},
   "source": [
    "## Cleaning and tokenizing column ‘Description’ :"
   ]
  },
  {
   "cell_type": "code",
   "execution_count": 14,
   "id": "3d319ecb",
   "metadata": {
    "gather": {
     "logged": 1677487267924
    }
   },
   "outputs": [
    {
     "data": {
      "text/html": [
       "<div>\n",
       "<style scoped>\n",
       "    .dataframe tbody tr th:only-of-type {\n",
       "        vertical-align: middle;\n",
       "    }\n",
       "\n",
       "    .dataframe tbody tr th {\n",
       "        vertical-align: top;\n",
       "    }\n",
       "\n",
       "    .dataframe thead th {\n",
       "        text-align: right;\n",
       "    }\n",
       "</style>\n",
       "<table border=\"1\" class=\"dataframe\">\n",
       "  <thead>\n",
       "    <tr style=\"text-align: right;\">\n",
       "      <th></th>\n",
       "      <th>description</th>\n",
       "      <th>cleaned</th>\n",
       "    </tr>\n",
       "  </thead>\n",
       "  <tbody>\n",
       "    <tr>\n",
       "      <th>0</th>\n",
       "      <td>Key Features of Elegance Polyester Multicolor ...</td>\n",
       "      <td>key features of elegance polyester multicolor ...</td>\n",
       "    </tr>\n",
       "    <tr>\n",
       "      <th>1</th>\n",
       "      <td>Specifications of Sathiyas Cotton Bath Towel (...</td>\n",
       "      <td>specifications of sathiyas cotton bath towel (...</td>\n",
       "    </tr>\n",
       "    <tr>\n",
       "      <th>2</th>\n",
       "      <td>Key Features of SANTOSH ROYAL FASHION Cotton P...</td>\n",
       "      <td>key features of santosh royal fashion cotton p...</td>\n",
       "    </tr>\n",
       "    <tr>\n",
       "      <th>3</th>\n",
       "      <td>Key Features of Jaipur Print Cotton Floral Kin...</td>\n",
       "      <td>key features of jaipur print cotton floral kin...</td>\n",
       "    </tr>\n",
       "    <tr>\n",
       "      <th>4</th>\n",
       "      <td>Maserati Time R8851116001 Analog Watch  - For ...</td>\n",
       "      <td>maserati time r8851116001 analog watch  - for ...</td>\n",
       "    </tr>\n",
       "  </tbody>\n",
       "</table>\n",
       "</div>"
      ],
      "text/plain": [
       "                                         description  \\\n",
       "0  Key Features of Elegance Polyester Multicolor ...   \n",
       "1  Specifications of Sathiyas Cotton Bath Towel (...   \n",
       "2  Key Features of SANTOSH ROYAL FASHION Cotton P...   \n",
       "3  Key Features of Jaipur Print Cotton Floral Kin...   \n",
       "4  Maserati Time R8851116001 Analog Watch  - For ...   \n",
       "\n",
       "                                             cleaned  \n",
       "0  key features of elegance polyester multicolor ...  \n",
       "1  specifications of sathiyas cotton bath towel (...  \n",
       "2  key features of santosh royal fashion cotton p...  \n",
       "3  key features of jaipur print cotton floral kin...  \n",
       "4  maserati time r8851116001 analog watch  - for ...  "
      ]
     },
     "execution_count": 14,
     "metadata": {},
     "output_type": "execute_result"
    }
   ],
   "source": [
    "# Lower case\n",
    "df[\"cleaned\"] = df['description'].apply(lambda x: x.lower())\n",
    "df[['description','cleaned']].head()"
   ]
  },
  {
   "cell_type": "code",
   "execution_count": 15,
   "id": "3f287dcf",
   "metadata": {
    "gather": {
     "logged": 1677487268589
    }
   },
   "outputs": [],
   "source": [
    "# Punctuation removal function\n",
    "def remove_punct(text):\n",
    "    \"\"\"\n",
    "        Remove the punctuation\n",
    "    \"\"\"\n",
    "    return re.sub(r'[]!\"$%&\\'()*+,./:;=#@?[\\\\^_`{|}~-]+', \"\", text)\n",
    "    #return text.translate(str.maketrans('', '', string.punctuation))"
   ]
  },
  {
   "cell_type": "code",
   "execution_count": 16,
   "id": "ff5c87d2",
   "metadata": {
    "gather": {
     "logged": 1677487269269
    },
    "scrolled": true
   },
   "outputs": [
    {
     "data": {
      "text/html": [
       "<div>\n",
       "<style scoped>\n",
       "    .dataframe tbody tr th:only-of-type {\n",
       "        vertical-align: middle;\n",
       "    }\n",
       "\n",
       "    .dataframe tbody tr th {\n",
       "        vertical-align: top;\n",
       "    }\n",
       "\n",
       "    .dataframe thead th {\n",
       "        text-align: right;\n",
       "    }\n",
       "</style>\n",
       "<table border=\"1\" class=\"dataframe\">\n",
       "  <thead>\n",
       "    <tr style=\"text-align: right;\">\n",
       "      <th></th>\n",
       "      <th>description</th>\n",
       "      <th>cleaned</th>\n",
       "    </tr>\n",
       "  </thead>\n",
       "  <tbody>\n",
       "    <tr>\n",
       "      <th>0</th>\n",
       "      <td>Key Features of Elegance Polyester Multicolor ...</td>\n",
       "      <td>key features of elegance polyester multicolor ...</td>\n",
       "    </tr>\n",
       "    <tr>\n",
       "      <th>1</th>\n",
       "      <td>Specifications of Sathiyas Cotton Bath Towel (...</td>\n",
       "      <td>specifications of sathiyas cotton bath towel 3...</td>\n",
       "    </tr>\n",
       "    <tr>\n",
       "      <th>2</th>\n",
       "      <td>Key Features of SANTOSH ROYAL FASHION Cotton P...</td>\n",
       "      <td>key features of santosh royal fashion cotton p...</td>\n",
       "    </tr>\n",
       "    <tr>\n",
       "      <th>3</th>\n",
       "      <td>Key Features of Jaipur Print Cotton Floral Kin...</td>\n",
       "      <td>key features of jaipur print cotton floral kin...</td>\n",
       "    </tr>\n",
       "    <tr>\n",
       "      <th>4</th>\n",
       "      <td>Maserati Time R8851116001 Analog Watch  - For ...</td>\n",
       "      <td>maserati time r8851116001 analog watch   for b...</td>\n",
       "    </tr>\n",
       "  </tbody>\n",
       "</table>\n",
       "</div>"
      ],
      "text/plain": [
       "                                         description  \\\n",
       "0  Key Features of Elegance Polyester Multicolor ...   \n",
       "1  Specifications of Sathiyas Cotton Bath Towel (...   \n",
       "2  Key Features of SANTOSH ROYAL FASHION Cotton P...   \n",
       "3  Key Features of Jaipur Print Cotton Floral Kin...   \n",
       "4  Maserati Time R8851116001 Analog Watch  - For ...   \n",
       "\n",
       "                                             cleaned  \n",
       "0  key features of elegance polyester multicolor ...  \n",
       "1  specifications of sathiyas cotton bath towel 3...  \n",
       "2  key features of santosh royal fashion cotton p...  \n",
       "3  key features of jaipur print cotton floral kin...  \n",
       "4  maserati time r8851116001 analog watch   for b...  "
      ]
     },
     "execution_count": 16,
     "metadata": {},
     "output_type": "execute_result"
    }
   ],
   "source": [
    "# Remove punctuations from the text\n",
    "df[\"cleaned\"] = df[\"cleaned\"].apply(lambda x: remove_punct(x))\n",
    "df[['description','cleaned']].head()"
   ]
  },
  {
   "cell_type": "code",
   "execution_count": 17,
   "id": "e1808f2e",
   "metadata": {
    "gather": {
     "logged": 1677487273500
    }
   },
   "outputs": [
    {
     "data": {
      "text/html": [
       "<div>\n",
       "<style scoped>\n",
       "    .dataframe tbody tr th:only-of-type {\n",
       "        vertical-align: middle;\n",
       "    }\n",
       "\n",
       "    .dataframe tbody tr th {\n",
       "        vertical-align: top;\n",
       "    }\n",
       "\n",
       "    .dataframe thead th {\n",
       "        text-align: right;\n",
       "    }\n",
       "</style>\n",
       "<table border=\"1\" class=\"dataframe\">\n",
       "  <thead>\n",
       "    <tr style=\"text-align: right;\">\n",
       "      <th></th>\n",
       "      <th>cleaned</th>\n",
       "      <th>tokenized</th>\n",
       "    </tr>\n",
       "  </thead>\n",
       "  <tbody>\n",
       "    <tr>\n",
       "      <th>0</th>\n",
       "      <td>key features of elegance polyester multicolor ...</td>\n",
       "      <td>[key, features, of, elegance, polyester, multi...</td>\n",
       "    </tr>\n",
       "    <tr>\n",
       "      <th>1</th>\n",
       "      <td>specifications of sathiyas cotton bath towel 3...</td>\n",
       "      <td>[specifications, of, sathiyas, cotton, bath, t...</td>\n",
       "    </tr>\n",
       "    <tr>\n",
       "      <th>2</th>\n",
       "      <td>key features of santosh royal fashion cotton p...</td>\n",
       "      <td>[key, features, of, santosh, royal, fashion, c...</td>\n",
       "    </tr>\n",
       "    <tr>\n",
       "      <th>3</th>\n",
       "      <td>key features of jaipur print cotton floral kin...</td>\n",
       "      <td>[key, features, of, jaipur, print, cotton, flo...</td>\n",
       "    </tr>\n",
       "    <tr>\n",
       "      <th>4</th>\n",
       "      <td>maserati time r8851116001 analog watch   for b...</td>\n",
       "      <td>[maserati, time, r8851116001, analog, watch, f...</td>\n",
       "    </tr>\n",
       "  </tbody>\n",
       "</table>\n",
       "</div>"
      ],
      "text/plain": [
       "                                             cleaned  \\\n",
       "0  key features of elegance polyester multicolor ...   \n",
       "1  specifications of sathiyas cotton bath towel 3...   \n",
       "2  key features of santosh royal fashion cotton p...   \n",
       "3  key features of jaipur print cotton floral kin...   \n",
       "4  maserati time r8851116001 analog watch   for b...   \n",
       "\n",
       "                                           tokenized  \n",
       "0  [key, features, of, elegance, polyester, multi...  \n",
       "1  [specifications, of, sathiyas, cotton, bath, t...  \n",
       "2  [key, features, of, santosh, royal, fashion, c...  \n",
       "3  [key, features, of, jaipur, print, cotton, flo...  \n",
       "4  [maserati, time, r8851116001, analog, watch, f...  "
      ]
     },
     "execution_count": 17,
     "metadata": {},
     "output_type": "execute_result"
    }
   ],
   "source": [
    "# Tokenizing\n",
    "from nltk.tokenize import word_tokenize\n",
    "\n",
    "df['tokenized'] = df['cleaned'].apply(word_tokenize)\n",
    "df[['cleaned','tokenized']].head()"
   ]
  },
  {
   "cell_type": "code",
   "execution_count": 18,
   "id": "6a316d4e",
   "metadata": {
    "gather": {
     "logged": 1677487275982
    }
   },
   "outputs": [
    {
     "name": "stderr",
     "output_type": "stream",
     "text": [
      "[nltk_data] Downloading package stopwords to\n",
      "[nltk_data]     C:\\Users\\John\\AppData\\Roaming\\nltk_data...\n",
      "[nltk_data]   Package stopwords is already up-to-date!\n"
     ]
    },
    {
     "data": {
      "text/html": [
       "<div>\n",
       "<style scoped>\n",
       "    .dataframe tbody tr th:only-of-type {\n",
       "        vertical-align: middle;\n",
       "    }\n",
       "\n",
       "    .dataframe tbody tr th {\n",
       "        vertical-align: top;\n",
       "    }\n",
       "\n",
       "    .dataframe thead th {\n",
       "        text-align: right;\n",
       "    }\n",
       "</style>\n",
       "<table border=\"1\" class=\"dataframe\">\n",
       "  <thead>\n",
       "    <tr style=\"text-align: right;\">\n",
       "      <th></th>\n",
       "      <th>cleaned</th>\n",
       "      <th>tokenized</th>\n",
       "    </tr>\n",
       "  </thead>\n",
       "  <tbody>\n",
       "    <tr>\n",
       "      <th>0</th>\n",
       "      <td>key features of elegance polyester multicolor ...</td>\n",
       "      <td>[key, features, elegance, polyester, multicolo...</td>\n",
       "    </tr>\n",
       "    <tr>\n",
       "      <th>1</th>\n",
       "      <td>specifications of sathiyas cotton bath towel 3...</td>\n",
       "      <td>[specifications, sathiyas, cotton, bath, towel...</td>\n",
       "    </tr>\n",
       "    <tr>\n",
       "      <th>2</th>\n",
       "      <td>key features of santosh royal fashion cotton p...</td>\n",
       "      <td>[key, features, santosh, royal, fashion, cotto...</td>\n",
       "    </tr>\n",
       "    <tr>\n",
       "      <th>3</th>\n",
       "      <td>key features of jaipur print cotton floral kin...</td>\n",
       "      <td>[key, features, jaipur, print, cotton, floral,...</td>\n",
       "    </tr>\n",
       "    <tr>\n",
       "      <th>4</th>\n",
       "      <td>maserati time r8851116001 analog watch   for b...</td>\n",
       "      <td>[maserati, time, r8851116001, analog, watch, b...</td>\n",
       "    </tr>\n",
       "  </tbody>\n",
       "</table>\n",
       "</div>"
      ],
      "text/plain": [
       "                                             cleaned  \\\n",
       "0  key features of elegance polyester multicolor ...   \n",
       "1  specifications of sathiyas cotton bath towel 3...   \n",
       "2  key features of santosh royal fashion cotton p...   \n",
       "3  key features of jaipur print cotton floral kin...   \n",
       "4  maserati time r8851116001 analog watch   for b...   \n",
       "\n",
       "                                           tokenized  \n",
       "0  [key, features, elegance, polyester, multicolo...  \n",
       "1  [specifications, sathiyas, cotton, bath, towel...  \n",
       "2  [key, features, santosh, royal, fashion, cotto...  \n",
       "3  [key, features, jaipur, print, cotton, floral,...  \n",
       "4  [maserati, time, r8851116001, analog, watch, b...  "
      ]
     },
     "execution_count": 18,
     "metadata": {},
     "output_type": "execute_result"
    }
   ],
   "source": [
    "# Removing stopwords\n",
    "nltk.download(\"stopwords\")\n",
    "from nltk.corpus import stopwords\n",
    "\n",
    "stop = set(stopwords.words('english'))\n",
    "df['tokenized'] = df['tokenized'].apply(lambda x: [word for word in x if word not in stop])\n",
    "df[['cleaned','tokenized']].head()"
   ]
  },
  {
   "cell_type": "code",
   "execution_count": 19,
   "id": "f52032e9",
   "metadata": {
    "gather": {
     "logged": 1677487278162
    }
   },
   "outputs": [
    {
     "name": "stderr",
     "output_type": "stream",
     "text": [
      "[nltk_data] Downloading package words to\n",
      "[nltk_data]     C:\\Users\\John\\AppData\\Roaming\\nltk_data...\n",
      "[nltk_data]   Package words is already up-to-date!\n"
     ]
    },
    {
     "data": {
      "text/html": [
       "<div>\n",
       "<style scoped>\n",
       "    .dataframe tbody tr th:only-of-type {\n",
       "        vertical-align: middle;\n",
       "    }\n",
       "\n",
       "    .dataframe tbody tr th {\n",
       "        vertical-align: top;\n",
       "    }\n",
       "\n",
       "    .dataframe thead th {\n",
       "        text-align: right;\n",
       "    }\n",
       "</style>\n",
       "<table border=\"1\" class=\"dataframe\">\n",
       "  <thead>\n",
       "    <tr style=\"text-align: right;\">\n",
       "      <th></th>\n",
       "      <th>cleaned</th>\n",
       "      <th>tokenized</th>\n",
       "    </tr>\n",
       "  </thead>\n",
       "  <tbody>\n",
       "    <tr>\n",
       "      <th>0</th>\n",
       "      <td>key features of elegance polyester multicolor ...</td>\n",
       "      <td>[key, elegance, polyester, multicolor, abstrac...</td>\n",
       "    </tr>\n",
       "    <tr>\n",
       "      <th>1</th>\n",
       "      <td>specifications of sathiyas cotton bath towel 3...</td>\n",
       "      <td>[cotton, bath, towel, bath, towel, red, yellow...</td>\n",
       "    </tr>\n",
       "    <tr>\n",
       "      <th>2</th>\n",
       "      <td>key features of santosh royal fashion cotton p...</td>\n",
       "      <td>[key, royal, fashion, cotton, printed, king, s...</td>\n",
       "    </tr>\n",
       "    <tr>\n",
       "      <th>3</th>\n",
       "      <td>key features of jaipur print cotton floral kin...</td>\n",
       "      <td>[key, print, cotton, floral, king, sized, doub...</td>\n",
       "    </tr>\n",
       "    <tr>\n",
       "      <th>4</th>\n",
       "      <td>maserati time r8851116001 analog watch   for b...</td>\n",
       "      <td>[time, watch, buy, time, watch, great, genuine...</td>\n",
       "    </tr>\n",
       "  </tbody>\n",
       "</table>\n",
       "</div>"
      ],
      "text/plain": [
       "                                             cleaned  \\\n",
       "0  key features of elegance polyester multicolor ...   \n",
       "1  specifications of sathiyas cotton bath towel 3...   \n",
       "2  key features of santosh royal fashion cotton p...   \n",
       "3  key features of jaipur print cotton floral kin...   \n",
       "4  maserati time r8851116001 analog watch   for b...   \n",
       "\n",
       "                                           tokenized  \n",
       "0  [key, elegance, polyester, multicolor, abstrac...  \n",
       "1  [cotton, bath, towel, bath, towel, red, yellow...  \n",
       "2  [key, royal, fashion, cotton, printed, king, s...  \n",
       "3  [key, print, cotton, floral, king, sized, doub...  \n",
       "4  [time, watch, buy, time, watch, great, genuine...  "
      ]
     },
     "execution_count": 19,
     "metadata": {},
     "output_type": "execute_result"
    }
   ],
   "source": [
    "# Removing non english word\n",
    "nltk.download('words')\n",
    "words = set(nltk.corpus.words.words())\n",
    "\n",
    "stop = set(stopwords.words('english'))\n",
    "df['tokenized'] = df['tokenized'].apply(lambda x: [word for word in x if word in words])\n",
    "df[['cleaned','tokenized']].head()"
   ]
  },
  {
   "cell_type": "code",
   "execution_count": 20,
   "id": "57f2d9c2-d4aa-4533-8399-cfc098028e8c",
   "metadata": {
    "gather": {
     "logged": 1677492953320
    },
    "jupyter": {
     "outputs_hidden": false,
     "source_hidden": false
    },
    "nteract": {
     "transient": {
      "deleting": false
     }
    }
   },
   "outputs": [
    {
     "name": "stderr",
     "output_type": "stream",
     "text": [
      "C:\\Users\\John\\AppData\\Local\\Temp\\ipykernel_6800\\1887817126.py:10: SettingWithCopyWarning: \n",
      "A value is trying to be set on a copy of a slice from a DataFrame\n",
      "\n",
      "See the caveats in the documentation: https://pandas.pydata.org/pandas-docs/stable/user_guide/indexing.html#returning-a-view-versus-a-copy\n",
      "  df['tokenized'][i] = lemma_fct(df['tokenized'][i])\n"
     ]
    },
    {
     "data": {
      "text/html": [
       "<div>\n",
       "<style scoped>\n",
       "    .dataframe tbody tr th:only-of-type {\n",
       "        vertical-align: middle;\n",
       "    }\n",
       "\n",
       "    .dataframe tbody tr th {\n",
       "        vertical-align: top;\n",
       "    }\n",
       "\n",
       "    .dataframe thead th {\n",
       "        text-align: right;\n",
       "    }\n",
       "</style>\n",
       "<table border=\"1\" class=\"dataframe\">\n",
       "  <thead>\n",
       "    <tr style=\"text-align: right;\">\n",
       "      <th></th>\n",
       "      <th>cleaned</th>\n",
       "      <th>tokenized</th>\n",
       "    </tr>\n",
       "  </thead>\n",
       "  <tbody>\n",
       "    <tr>\n",
       "      <th>643</th>\n",
       "      <td>key features of mkb baby girls empire waist dr...</td>\n",
       "      <td>[key, baby, empire, waist, dress, material, co...</td>\n",
       "    </tr>\n",
       "    <tr>\n",
       "      <th>848</th>\n",
       "      <td>buy qp360 kid fan 01 mly2015 usb usb fan for r...</td>\n",
       "      <td>[buy, fan, fan, fan, fan, best, free, shipping...</td>\n",
       "    </tr>\n",
       "    <tr>\n",
       "      <th>360</th>\n",
       "      <td>flipkartcom buy aero care la royal orange  ice...</td>\n",
       "      <td>[buy, aero, care, la, royal, orange, ice, set,...</td>\n",
       "    </tr>\n",
       "    <tr>\n",
       "      <th>822</th>\n",
       "      <td>firstrace 101107 analog watch   for couple  bu...</td>\n",
       "      <td>[watch, couple, buy, watch, couple, great, gen...</td>\n",
       "    </tr>\n",
       "    <tr>\n",
       "      <th>719</th>\n",
       "      <td>sapatos geometric single duvet purple  pink si...</td>\n",
       "      <td>[geometric, single, duvet, purple, pink, singl...</td>\n",
       "    </tr>\n",
       "  </tbody>\n",
       "</table>\n",
       "</div>"
      ],
      "text/plain": [
       "                                               cleaned  \\\n",
       "643  key features of mkb baby girls empire waist dr...   \n",
       "848  buy qp360 kid fan 01 mly2015 usb usb fan for r...   \n",
       "360  flipkartcom buy aero care la royal orange  ice...   \n",
       "822  firstrace 101107 analog watch   for couple  bu...   \n",
       "719  sapatos geometric single duvet purple  pink si...   \n",
       "\n",
       "                                             tokenized  \n",
       "643  [key, baby, empire, waist, dress, material, co...  \n",
       "848  [buy, fan, fan, fan, fan, best, free, shipping...  \n",
       "360  [buy, aero, care, la, royal, orange, ice, set,...  \n",
       "822  [watch, couple, buy, watch, couple, great, gen...  \n",
       "719  [geometric, single, duvet, purple, pink, singl...  "
      ]
     },
     "execution_count": 20,
     "metadata": {},
     "output_type": "execute_result"
    }
   ],
   "source": [
    "# Lemmatizer (base d'un mot)\n",
    "from nltk.stem import WordNetLemmatizer\n",
    "\n",
    "def lemma_fct(list_words) :\n",
    "    lemmatizer = WordNetLemmatizer()\n",
    "    lem_w = [lemmatizer.lemmatize(w) for w in list_words]\n",
    "    return lem_w\n",
    "\n",
    "for i in range(1048) : \n",
    "    df['tokenized'][i] = lemma_fct(df['tokenized'][i])\n",
    "df[['cleaned','tokenized']].sample(5)"
   ]
  },
  {
   "cell_type": "code",
   "execution_count": 21,
   "id": "2e0c6835",
   "metadata": {
    "gather": {
     "logged": 1677487278861
    }
   },
   "outputs": [
    {
     "data": {
      "text/html": [
       "<div>\n",
       "<style scoped>\n",
       "    .dataframe tbody tr th:only-of-type {\n",
       "        vertical-align: middle;\n",
       "    }\n",
       "\n",
       "    .dataframe tbody tr th {\n",
       "        vertical-align: top;\n",
       "    }\n",
       "\n",
       "    .dataframe thead th {\n",
       "        text-align: right;\n",
       "    }\n",
       "</style>\n",
       "<table border=\"1\" class=\"dataframe\">\n",
       "  <thead>\n",
       "    <tr style=\"text-align: right;\">\n",
       "      <th></th>\n",
       "      <th>tokenized</th>\n",
       "      <th>combined</th>\n",
       "    </tr>\n",
       "  </thead>\n",
       "  <tbody>\n",
       "    <tr>\n",
       "      <th>0</th>\n",
       "      <td>[key, elegance, polyester, multicolor, abstrac...</td>\n",
       "      <td>key elegance polyester multicolor abstract eye...</td>\n",
       "    </tr>\n",
       "    <tr>\n",
       "      <th>1</th>\n",
       "      <td>[cotton, bath, towel, bath, towel, red, yellow...</td>\n",
       "      <td>cotton bath towel bath towel red yellow blue b...</td>\n",
       "    </tr>\n",
       "    <tr>\n",
       "      <th>2</th>\n",
       "      <td>[key, royal, fashion, cotton, printed, king, s...</td>\n",
       "      <td>key royal fashion cotton printed king sized do...</td>\n",
       "    </tr>\n",
       "    <tr>\n",
       "      <th>3</th>\n",
       "      <td>[key, print, cotton, floral, king, sized, doub...</td>\n",
       "      <td>key print cotton floral king sized double prin...</td>\n",
       "    </tr>\n",
       "    <tr>\n",
       "      <th>4</th>\n",
       "      <td>[time, watch, buy, time, watch, great, genuine...</td>\n",
       "      <td>time watch buy time watch great genuine day re...</td>\n",
       "    </tr>\n",
       "  </tbody>\n",
       "</table>\n",
       "</div>"
      ],
      "text/plain": [
       "                                           tokenized  \\\n",
       "0  [key, elegance, polyester, multicolor, abstrac...   \n",
       "1  [cotton, bath, towel, bath, towel, red, yellow...   \n",
       "2  [key, royal, fashion, cotton, printed, king, s...   \n",
       "3  [key, print, cotton, floral, king, sized, doub...   \n",
       "4  [time, watch, buy, time, watch, great, genuine...   \n",
       "\n",
       "                                            combined  \n",
       "0  key elegance polyester multicolor abstract eye...  \n",
       "1  cotton bath towel bath towel red yellow blue b...  \n",
       "2  key royal fashion cotton printed king sized do...  \n",
       "3  key print cotton floral king sized double prin...  \n",
       "4  time watch buy time watch great genuine day re...  "
      ]
     },
     "execution_count": 21,
     "metadata": {},
     "output_type": "execute_result"
    }
   ],
   "source": [
    "# Prerequisite for CountVectorizer : aggregate the words into a sentence\n",
    "def combine_text(list_of_text):\n",
    "    '''Takes a list of text and combines them into one large chunk of text.'''\n",
    "    combined_text = ' '.join(list_of_text)\n",
    "    return combined_text\n",
    "\n",
    "df['combined'] = df['tokenized'].apply(lambda x : combine_text(x))\n",
    "df[['tokenized','combined']].head()"
   ]
  },
  {
   "cell_type": "markdown",
   "id": "d6c813fd",
   "metadata": {},
   "source": [
    "## Data exploration :"
   ]
  },
  {
   "cell_type": "code",
   "execution_count": 22,
   "id": "bc264db4-52cb-465c-9991-1d6a239b2cba",
   "metadata": {
    "gather": {
     "logged": 1677494369610
    },
    "jupyter": {
     "outputs_hidden": false,
     "source_hidden": false
    },
    "nteract": {
     "transient": {
      "deleting": false
     }
    }
   },
   "outputs": [
    {
     "data": {
      "text/plain": [
       "Text(0.5, 0, 'nb of word')"
      ]
     },
     "execution_count": 22,
     "metadata": {},
     "output_type": "execute_result"
    },
    {
     "data": {
      "image/png": "[encoded data removed]",
      "text/plain": [
       "<Figure size 1000x500 with 1 Axes>"
      ]
     },
     "metadata": {},
     "output_type": "display_data"
    }
   ],
   "source": [
    "# distribution du nombre de mot par description après tokenization\n",
    "data = [len(i) for i in df.tokenized]\n",
    "plt.figure(figsize=(10,5))\n",
    "ax = sns.histplot(data,color=\"green\",kde=True, stat=\"density\")\n",
    "ax.set_xlabel(\"nb of word\")"
   ]
  },
  {
   "cell_type": "code",
   "execution_count": 23,
   "id": "07076fa3-2c19-4e0e-83ff-bf9d2e60e360",
   "metadata": {
    "gather": {
     "logged": 1677494945427
    },
    "jupyter": {
     "outputs_hidden": false,
     "source_hidden": false
    },
    "nteract": {
     "transient": {
      "deleting": false
     }
    }
   },
   "outputs": [],
   "source": [
    "# Pareto de la fréquence des mots\n",
    "voc = set()\n",
    "corpus = []\n",
    "data = {}\n",
    "\n",
    "for i in [j for j in df.tokenized]:\n",
    "    voc = set(i) | voc\n",
    "    for k in i :\n",
    "        corpus.append(k)\n",
    "\n",
    "for i in voc : \n",
    "    data[i] = corpus.count(i)\n",
    "data = pd.DataFrame(list(data.items()),columns = ['word','count']) "
   ]
  },
  {
   "cell_type": "code",
   "execution_count": 24,
   "id": "51f9771e",
   "metadata": {},
   "outputs": [],
   "source": [
    "data.sort_values('count', ascending = False, inplace = True)"
   ]
  },
  {
   "cell_type": "code",
   "execution_count": 25,
   "id": "3e148641",
   "metadata": {},
   "outputs": [
    {
     "name": "stderr",
     "output_type": "stream",
     "text": [
      "C:\\Users\\John\\AppData\\Local\\Temp\\ipykernel_6800\\2856589624.py:3: FutureWarning: The behavior of `series[i:j]` with an integer-dtype index is deprecated. In a future version, this will be treated as *label-based* indexing, consistent with e.g. `series[i]` lookups. To retain the old behavior, use `series.iloc[i:j]`. To get the future behavior, use `series.loc[i:j]`.\n",
      "  ax = sns.barplot(x = data['word'][0:20],y = data['count'][0:20],color=\"green\")\n"
     ]
    },
    {
     "data": {
      "text/plain": [
       "Text(0.5, 0, 'nb of word in corpus')"
      ]
     },
     "execution_count": 25,
     "metadata": {},
     "output_type": "execute_result"
    },
    {
     "data": {
      "image/png": "[encoded data removed]",
      "text/plain": [
       "<Figure size 1000x500 with 1 Axes>"
      ]
     },
     "metadata": {},
     "output_type": "display_data"
    }
   ],
   "source": [
    "# Visualisation\n",
    "plt.figure(figsize=(10,5))\n",
    "ax = sns.barplot(x = data['word'][0:20],y = data['count'][0:20],color=\"green\")\n",
    "plt.xticks(rotation=45,fontsize=10)\n",
    "ax.set_xlabel(\"nb of word in corpus\")"
   ]
  },
  {
   "cell_type": "code",
   "execution_count": 26,
   "id": "9642e7f9",
   "metadata": {},
   "outputs": [],
   "source": [
    "df.to_csv('df.csv',index=False)"
   ]
  }
 ],
 "metadata": {
  "kernel_info": {
   "name": "python3"
  },
  "kernelspec": {
   "display_name": "Python 3 (ipykernel)",
   "language": "python",
   "name": "python3"
  },
  "language_info": {
   "codemirror_mode": {
    "name": "ipython",
    "version": 3
   },
   "file_extension": ".py",
   "mimetype": "text/x-python",
   "name": "python",
   "nbconvert_exporter": "python",
   "pygments_lexer": "ipython3",
   "version": "3.9.13"
  },
  "microsoft": {
   "host": {
    "AzureML": {
     "notebookHasBeenCompleted": true
    }
   },
   "ms_spell_check": {
    "ms_spell_check_language": "en"
   }
  },
  "nteract": {
   "version": "nteract-front-end@1.0.0"
  }
 },
 "nbformat": 4,
 "nbformat_minor": 5
}
